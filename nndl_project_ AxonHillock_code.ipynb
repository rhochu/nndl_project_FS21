{
 "cells": [
  {
   "cell_type": "code",
   "execution_count": 62,
   "metadata": {
    "colab": {
     "base_uri": "https://localhost:8080/"
    },
    "id": "yZKrVaqVLraV",
    "outputId": "15827960-1db6-418c-9413-5f1962a6d65a"
   },
   "outputs": [
    {
     "name": "stdout",
     "output_type": "stream",
     "text": [
      "/content\n"
     ]
    }
   ],
   "source": [
    "import tensorflow as tf\n",
    "from tensorflow import keras\n",
    "import pandas as pd\n",
    "import numpy as np \n",
    "import os as os\n",
    "import math\n",
    "import matplotlib\n",
    "import matplotlib.pyplot as plt\n",
    "import sklearn\n",
    "import sklearn.metrics as sm\n",
    "import seaborn as sn\n",
    "\n",
    "print(os.getcwd())"
   ]
  },
  {
   "cell_type": "code",
   "execution_count": 63,
   "metadata": {
    "colab": {
     "base_uri": "https://localhost:8080/",
     "height": 53
    },
    "id": "KUo05BgIJuxw",
    "outputId": "f8901858-37aa-44e5-c9bb-a4d40c8a099c"
   },
   "outputs": [
    {
     "name": "stdout",
     "output_type": "stream",
     "text": [
      "/content\n"
     ]
    },
    {
     "data": {
      "application/vnd.google.colaboratory.intrinsic+json": {
       "type": "string"
      },
      "text/plain": [
       "'/content'"
      ]
     },
     "execution_count": 63,
     "metadata": {
      "tags": []
     },
     "output_type": "execute_result"
    }
   ],
   "source": [
    "print(os.getcwd())\n",
    "path_file = '/content'\n",
    "path_data = '/content/data_nndl'\n",
    "# set path to data and load data \n",
    "## not pd.read_csv('datafile.csv') because we need array not data frame\n",
    "os.chdir(path_data)\n",
    "os.getcwd()\n",
    "\n",
    "\n",
    "x_train = np.genfromtxt(path_data + '/csvTrainImages 60k x 784.csv', delimiter = ',')\n",
    "y_train = np.genfromtxt(path_data + '/csvTrainLabel 60k x 1.csv', delimiter = ',')\n",
    "x_test = np.genfromtxt(path_data + '/csvTestImages 10k x 784.csv', delimiter = ',')\n",
    "y_test = np.genfromtxt(path_data + '/csvTestLabel 10k x 1.csv', delimiter = ',')\n",
    "\n",
    "# convert to float (pixel values are integers)\n",
    "x_train = x_train.astype('float32')\n",
    "x_test = x_test.astype('float32')\n",
    "\n",
    "# convert class vectors to binary class matrices\n",
    "num_classes = 10 # 10 digits to classify, 0 - 9\n",
    "y_train = keras.utils.to_categorical(y_train, num_classes)\n",
    "y_test = keras.utils.to_categorical(y_test, num_classes)\n",
    "\n",
    "# reset path to original directory\n",
    "os.chdir(path_file)\n",
    "os.getcwd()"
   ]
  },
  {
   "cell_type": "markdown",
   "metadata": {
    "id": "BVJsTlcOS0sK"
   },
   "source": [
    "# Data Description\n",
    "\n",
    "\n",
    "* arabic numbers, handwritten by 700 participants, each of them writing the number 0-9 for a total of 10 times. \n",
    "* each in a image file of yz x yx pixels\n",
    "* this results in 70k observations, for each observation we have a image of said pixel size and a labe of what the participant acutally wanted to write. \n",
    "* data already partitioned into train and test data sets and converted into CSV files for easier accesaability. \n",
    "* CSV contains the flattend array of pixel values. \n",
    "\n",
    "\n"
   ]
  },
  {
   "cell_type": "code",
   "execution_count": 64,
   "metadata": {
    "colab": {
     "base_uri": "https://localhost:8080/"
    },
    "id": "Ge2GDJBCMdqF",
    "outputId": "09a2cb6e-c733-47a4-f062-f87b21aca62e"
   },
   "outputs": [
    {
     "data": {
      "text/plain": [
       "((60000, 784), (60000, 10), (10000, 784), (10000, 10))"
      ]
     },
     "execution_count": 64,
     "metadata": {
      "tags": []
     },
     "output_type": "execute_result"
    }
   ],
   "source": [
    "x_train.shape, y_train.shape, x_test.shape, y_test.shape"
   ]
  },
  {
   "cell_type": "markdown",
   "metadata": {
    "id": "Vqud2Cv1Rt0q"
   },
   "source": [
    "Dimensions of the training and test data set look good. We have 60k image observations for training and validation, and keep 10k observations for the final test of the neural net.  "
   ]
  },
  {
   "cell_type": "markdown",
   "metadata": {
    "id": "3oO_DVw0NEZT"
   },
   "source": [
    "To make sure there where no fautly conversion, we plot a couple of numbers from the CSV flattend array and compare them to the acutal images. "
   ]
  },
  {
   "cell_type": "code",
   "execution_count": 65,
   "metadata": {
    "colab": {
     "base_uri": "https://localhost:8080/"
    },
    "id": "B-66_SnUMl-g",
    "outputId": "7f257a1e-a5a5-41d8-fb84-16539e609e76"
   },
   "outputs": [
    {
     "data": {
      "text/plain": [
       "(60000, 28, 28)"
      ]
     },
     "execution_count": 65,
     "metadata": {
      "tags": []
     },
     "output_type": "execute_result"
    }
   ],
   "source": [
    "x_train_2d = np.reshape(x_train,(60000,28,28))\n",
    "x_train_2d.shape\n",
    "# shows that now we have no longer a o-dimensional array of 60k x 784 but the restored pixel dimensions of the original image"
   ]
  },
  {
   "cell_type": "code",
   "execution_count": 66,
   "metadata": {
    "colab": {
     "base_uri": "https://localhost:8080/",
     "height": 292
    },
    "id": "5HXaiCExMrle",
    "outputId": "9f0fb80f-fc00-4f59-90a7-9dedca79bb03"
   },
   "outputs": [
    {
     "data": {
      "text/plain": [
       "<matplotlib.image.AxesImage at 0x7f968b1ca450>"
      ]
     },
     "execution_count": 66,
     "metadata": {
      "tags": []
     },
     "output_type": "execute_result"
    },
    {
     "data": {
      "image/png": "[encoded data removed]",
      "text/plain": [
       "<Figure size 288x288 with 1 Axes>"
      ]
     },
     "metadata": {
      "needs_background": "light",
      "tags": []
     },
     "output_type": "display_data"
    }
   ],
   "source": [
    "plt.matshow(x_train_2d[0])\n",
    "\n",
    "# PLUS ACTUAL IMAGE"
   ]
  },
  {
   "cell_type": "code",
   "execution_count": 67,
   "metadata": {
    "colab": {
     "base_uri": "https://localhost:8080/"
    },
    "id": "1HjWRMjbMuAc",
    "outputId": "77a052e9-7c2d-49c4-9ad9-366eb34c02ce"
   },
   "outputs": [
    {
     "data": {
      "text/plain": [
       "array([0., 0., 0., 0., 1., 0., 0., 0., 0., 0.], dtype=float32)"
      ]
     },
     "execution_count": 67,
     "metadata": {
      "tags": []
     },
     "output_type": "execute_result"
    }
   ],
   "source": [
    "y_train[4]"
   ]
  },
  {
   "cell_type": "markdown",
   "metadata": {
    "id": "AEuk8oBtU-Qa"
   },
   "source": [
    "having hade a discussion about data proceed now to formulate the first neural network. "
   ]
  },
  {
   "cell_type": "markdown",
   "metadata": {
    "id": "yricZsDfp2kD"
   },
   "source": [
    "**sources for different parameters**\n",
    "- rob's lectures\n",
    "- youtube tutorial => https://www.youtube.com/watch?v=iqQgED9vV7k&ab_channel=codebasics\n",
    "- batch size differences => https://medium.com/mini-distill/effect-of-batch-size-on-training-dynamics-21c14f7a716e\n"
   ]
  },
  {
   "cell_type": "markdown",
   "metadata": {
    "id": "GMIxGKSyp2a6"
   },
   "source": [
    "\n"
   ]
  },
  {
   "cell_type": "markdown",
   "metadata": {
    "id": "u1icaV6DNQ_3"
   },
   "source": [
    "# 1st neural net\n",
    "To start we begin with a simple 1 layer NN. We choose a dense layer, using 10 nodes, giving space to classify each of the available digits from 0-9. to keep it simple we use sigmoid ad a activation function. \n"
   ]
  },
  {
   "cell_type": "code",
   "execution_count": 68,
   "metadata": {
    "colab": {
     "base_uri": "https://localhost:8080/"
    },
    "id": "a2-WRQufNFmw",
    "outputId": "2c9417b1-f5f5-4f4f-f055-ed6efff12358"
   },
   "outputs": [
    {
     "name": "stdout",
     "output_type": "stream",
     "text": [
      "Model: \"sequential_38\"\n",
      "_________________________________________________________________\n",
      "Layer (type)                 Output Shape              Param #   \n",
      "=================================================================\n",
      "dense_99 (Dense)             (None, 10)                7850      \n",
      "=================================================================\n",
      "Total params: 7,850\n",
      "Trainable params: 7,850\n",
      "Non-trainable params: 0\n",
      "_________________________________________________________________\n"
     ]
    }
   ],
   "source": [
    "model1 = keras.Sequential([\n",
    "    keras.layers.Dense(10, input_shape=(x_train.shape[1],), activation='sigmoid'),\n",
    "])\n",
    "model1.summary()\n",
    "model1.compile(optimizer='adam',\n",
    "              loss='categorical_crossentropy',\n",
    "              metrics=['accuracy'])"
   ]
  },
  {
   "cell_type": "code",
   "execution_count": 69,
   "metadata": {
    "colab": {
     "base_uri": "https://localhost:8080/"
    },
    "id": "A-aZzyVlWasW",
    "outputId": "908574d1-01da-4189-b5d5-6f5467dac413"
   },
   "outputs": [
    {
     "name": "stdout",
     "output_type": "stream",
     "text": [
      "Epoch 1/5\n",
      "329/329 [==============================] - 1s 2ms/step - loss: 8.2457 - accuracy: 0.8754 - val_loss: 3.6520 - val_accuracy: 0.9253\n",
      "Epoch 2/5\n",
      "329/329 [==============================] - 1s 2ms/step - loss: 2.3136 - accuracy: 0.9464 - val_loss: 3.0437 - val_accuracy: 0.9284\n",
      "Epoch 3/5\n",
      "329/329 [==============================] - 1s 2ms/step - loss: 1.6467 - accuracy: 0.9550 - val_loss: 2.5515 - val_accuracy: 0.9383\n",
      "Epoch 4/5\n",
      "329/329 [==============================] - 1s 2ms/step - loss: 1.4836 - accuracy: 0.9579 - val_loss: 2.5121 - val_accuracy: 0.9411\n",
      "Epoch 5/5\n",
      "329/329 [==============================] - 1s 2ms/step - loss: 1.3377 - accuracy: 0.9611 - val_loss: 2.4293 - val_accuracy: 0.9420\n",
      "> model evaluation\n",
      "313/313 [==============================] - 0s 703us/step - loss: 2.4515 - accuracy: 0.9402\n"
     ]
    },
    {
     "data": {
      "text/plain": [
       "[2.451476573944092, 0.9401999711990356]"
      ]
     },
     "execution_count": 69,
     "metadata": {
      "tags": []
     },
     "output_type": "execute_result"
    }
   ],
   "source": [
    "model1.fit(x_train, y_train,\n",
    "           batch_size = 128, \n",
    "           epochs = 5, \n",
    "           validation_split = 0.3,\n",
    "           shuffle = True,\n",
    "           verbose = 1)\n",
    "\n",
    "#validation_data=(x_test, y_test)) ??\n",
    "\n",
    "print('> model evaluation')\n",
    "model1.evaluate(x_test, y_test, verbose = 1)"
   ]
  },
  {
   "cell_type": "markdown",
   "metadata": {
    "id": "R-2BnyFTswmK"
   },
   "source": [
    "# 2nd neural net\n",
    "\n",
    "mentioned in the lecture slides and also youtube sources, standardizing the pixel values for a range of 0-1 should improve accuracy"
   ]
  },
  {
   "cell_type": "code",
   "execution_count": 70,
   "metadata": {
    "id": "hPnubFKyv4Rx"
   },
   "outputs": [],
   "source": [
    "x_train_stan = x_train / 255\n",
    "x_test_stan = x_test / 255"
   ]
  },
  {
   "cell_type": "code",
   "execution_count": 71,
   "metadata": {
    "colab": {
     "base_uri": "https://localhost:8080/"
    },
    "id": "cD8IFzmWVP5T",
    "outputId": "d3915bc6-c825-4175-a9f7-9b0f6ceb8e85"
   },
   "outputs": [
    {
     "name": "stdout",
     "output_type": "stream",
     "text": [
      "Model: \"sequential_39\"\n",
      "_________________________________________________________________\n",
      "Layer (type)                 Output Shape              Param #   \n",
      "=================================================================\n",
      "dense_100 (Dense)            (None, 10)                7850      \n",
      "=================================================================\n",
      "Total params: 7,850\n",
      "Trainable params: 7,850\n",
      "Non-trainable params: 0\n",
      "_________________________________________________________________\n"
     ]
    }
   ],
   "source": [
    "model2 = keras.Sequential([\n",
    "    keras.layers.Dense(10, input_shape=(x_train_stan.shape[1],), activation='sigmoid'),\n",
    "])\n",
    "model2.summary()\n",
    "model2.compile(optimizer='adam',\n",
    "              loss= 'categorical_crossentropy',\n",
    "              metrics=['accuracy'])"
   ]
  },
  {
   "cell_type": "code",
   "execution_count": 72,
   "metadata": {
    "colab": {
     "base_uri": "https://localhost:8080/"
    },
    "id": "fkXu11M7WZZ0",
    "outputId": "ca794d4a-4976-49f8-d554-40036e171c71"
   },
   "outputs": [
    {
     "name": "stdout",
     "output_type": "stream",
     "text": [
      "Epoch 1/5\n",
      "329/329 [==============================] - 1s 2ms/step - loss: 0.6027 - accuracy: 0.8758 - val_loss: 0.3143 - val_accuracy: 0.9329\n",
      "Epoch 2/5\n",
      "329/329 [==============================] - 1s 2ms/step - loss: 0.2254 - accuracy: 0.9499 - val_loss: 0.2289 - val_accuracy: 0.9462\n",
      "Epoch 3/5\n",
      "329/329 [==============================] - 1s 2ms/step - loss: 0.1740 - accuracy: 0.9588 - val_loss: 0.1951 - val_accuracy: 0.9526\n",
      "Epoch 4/5\n",
      "329/329 [==============================] - 1s 2ms/step - loss: 0.1493 - accuracy: 0.9642 - val_loss: 0.1780 - val_accuracy: 0.9554\n",
      "Epoch 5/5\n",
      "329/329 [==============================] - 1s 2ms/step - loss: 0.1342 - accuracy: 0.9673 - val_loss: 0.1659 - val_accuracy: 0.9578\n",
      "> model evaluation\n",
      "313/313 [==============================] - 0s 712us/step - loss: 0.1739 - accuracy: 0.9538\n"
     ]
    },
    {
     "data": {
      "text/plain": [
       "[0.1738690882921219, 0.9538000226020813]"
      ]
     },
     "execution_count": 72,
     "metadata": {
      "tags": []
     },
     "output_type": "execute_result"
    }
   ],
   "source": [
    "model2.fit(x_train_stan, y_train,\n",
    "           batch_size = 128, \n",
    "           epochs = 5, \n",
    "           #validation_data=(x_test, y_test)),\n",
    "           validation_split = 0.3,\n",
    "           shuffle = True,\n",
    "           verbose = 1)\n",
    "\n",
    "print('> model evaluation')\n",
    "model2.evaluate(x_test_stan, y_test, verbose = 1)"
   ]
  },
  {
   "cell_type": "markdown",
   "metadata": {
    "id": "-704ihSsV-vD"
   },
   "source": [
    "no decrease in accuracy so we continue henceforth with the standardized pixel values. \n",
    "\n",
    "\n",
    "but accuracy is still improvable, thus we want to experiment with a multi-layerd neural net. "
   ]
  },
  {
   "cell_type": "markdown",
   "metadata": {
    "id": "QRlE24T9wpMY"
   },
   "source": [
    "# 3rd neural net\n",
    "following the exercise jupyter notebook from the lecture 3 (mnist_mlp.ipynb) we try a model with more layers\n",
    "\n",
    "- relu for activatzion function, should be better. \n",
    "- soft max better for classification, dense10 at the end remains => makes sense"
   ]
  },
  {
   "cell_type": "code",
   "execution_count": 73,
   "metadata": {
    "colab": {
     "base_uri": "https://localhost:8080/"
    },
    "id": "Q9dKl8-byAyU",
    "outputId": "2c114411-fefb-4ff7-bebd-14d96a660be2"
   },
   "outputs": [
    {
     "name": "stdout",
     "output_type": "stream",
     "text": [
      "Model: \"sequential_40\"\n",
      "_________________________________________________________________\n",
      "Layer (type)                 Output Shape              Param #   \n",
      "=================================================================\n",
      "dense_101 (Dense)            (None, 512)               401920    \n",
      "_________________________________________________________________\n",
      "dropout_58 (Dropout)         (None, 512)               0         \n",
      "_________________________________________________________________\n",
      "dense_102 (Dense)            (None, 512)               262656    \n",
      "_________________________________________________________________\n",
      "dropout_59 (Dropout)         (None, 512)               0         \n",
      "_________________________________________________________________\n",
      "dense_103 (Dense)            (None, 10)                5130      \n",
      "=================================================================\n",
      "Total params: 669,706\n",
      "Trainable params: 669,706\n",
      "Non-trainable params: 0\n",
      "_________________________________________________________________\n"
     ]
    }
   ],
   "source": [
    "model3 = keras.Sequential([\n",
    "    keras.layers.Dense(512, input_shape=(x_train_stan.shape[1],), activation='relu'),\n",
    "    keras.layers.Dropout(0.2),\n",
    "    keras.layers.Dense(512, activation='relu'),\n",
    "    keras.layers.Dropout(0.2),\n",
    "    keras.layers.Dense(10, activation='softmax'),\n",
    "])\n",
    "model3.summary() ;\n",
    "model3.compile(optimizer='adam',\n",
    "              loss='categorical_crossentropy',\n",
    "              metrics=['accuracy'])"
   ]
  },
  {
   "cell_type": "code",
   "execution_count": 74,
   "metadata": {
    "colab": {
     "base_uri": "https://localhost:8080/"
    },
    "id": "51RsPfXkyCuc",
    "outputId": "9eec0486-798a-4f02-eb28-52a3b8558f6b"
   },
   "outputs": [
    {
     "name": "stdout",
     "output_type": "stream",
     "text": [
      "Epoch 1/5\n",
      "329/329 [==============================] - 5s 13ms/step - loss: 0.1769 - accuracy: 0.9517 - val_loss: 0.0937 - val_accuracy: 0.9741\n",
      "Epoch 2/5\n",
      "329/329 [==============================] - 4s 13ms/step - loss: 0.0566 - accuracy: 0.9840 - val_loss: 0.0704 - val_accuracy: 0.9798\n",
      "Epoch 3/5\n",
      "329/329 [==============================] - 4s 13ms/step - loss: 0.0400 - accuracy: 0.9881 - val_loss: 0.0713 - val_accuracy: 0.9802\n",
      "Epoch 4/5\n",
      "329/329 [==============================] - 4s 12ms/step - loss: 0.0261 - accuracy: 0.9922 - val_loss: 0.0757 - val_accuracy: 0.9794\n",
      "Epoch 5/5\n",
      "329/329 [==============================] - 4s 13ms/step - loss: 0.0225 - accuracy: 0.9928 - val_loss: 0.0763 - val_accuracy: 0.9809\n",
      "> model evaluation\n",
      "313/313 [==============================] - 1s 2ms/step - loss: 0.0709 - accuracy: 0.9808\n"
     ]
    },
    {
     "data": {
      "text/plain": [
       "[0.07091709226369858, 0.9807999730110168]"
      ]
     },
     "execution_count": 74,
     "metadata": {
      "tags": []
     },
     "output_type": "execute_result"
    }
   ],
   "source": [
    "model3.fit(x_train_stan, y_train,\n",
    "           batch_size = 128, \n",
    "           epochs = 5, \n",
    "           #validation_data=(x_test, y_test)),\n",
    "           validation_split = 0.3,\n",
    "           shuffle = True,\n",
    "           verbose = 1)\n",
    "\n",
    "print('> model evaluation')\n",
    "model3.evaluate(x_test_stan, y_test, verbose = 1)"
   ]
  },
  {
   "cell_type": "markdown",
   "metadata": {
    "id": "yX8MeQ-pV7Og"
   },
   "source": [
    "# 4th neural net dense only\n",
    "\n",
    "Data still 1D array, additional Flatten() layers\n"
   ]
  },
  {
   "cell_type": "code",
   "execution_count": 75,
   "metadata": {
    "colab": {
     "base_uri": "https://localhost:8080/"
    },
    "id": "U0-Dt-mnWTQ2",
    "outputId": "8facb522-67e7-4325-fa0c-25ee8e733216"
   },
   "outputs": [
    {
     "name": "stdout",
     "output_type": "stream",
     "text": [
      "Epoch 1/10\n",
      "329/329 [==============================] - 5s 13ms/step - loss: 0.1701 - accuracy: 0.9531 - val_loss: 0.0976 - val_accuracy: 0.9737\n",
      "Epoch 2/10\n",
      "329/329 [==============================] - 4s 13ms/step - loss: 0.0563 - accuracy: 0.9836 - val_loss: 0.0836 - val_accuracy: 0.9777\n",
      "Epoch 3/10\n",
      "329/329 [==============================] - 4s 13ms/step - loss: 0.0374 - accuracy: 0.9892 - val_loss: 0.0845 - val_accuracy: 0.9764\n",
      "Epoch 4/10\n",
      "329/329 [==============================] - 4s 13ms/step - loss: 0.0264 - accuracy: 0.9925 - val_loss: 0.0764 - val_accuracy: 0.9799\n",
      "Epoch 5/10\n",
      "329/329 [==============================] - 4s 12ms/step - loss: 0.0229 - accuracy: 0.9930 - val_loss: 0.0616 - val_accuracy: 0.9837\n",
      "Epoch 6/10\n",
      "329/329 [==============================] - 4s 13ms/step - loss: 0.0211 - accuracy: 0.9935 - val_loss: 0.0744 - val_accuracy: 0.9818\n",
      "Epoch 7/10\n",
      "329/329 [==============================] - 4s 12ms/step - loss: 0.0136 - accuracy: 0.9957 - val_loss: 0.0771 - val_accuracy: 0.9836\n",
      "Epoch 8/10\n",
      "329/329 [==============================] - 4s 12ms/step - loss: 0.0146 - accuracy: 0.9952 - val_loss: 0.0885 - val_accuracy: 0.9795\n",
      "Epoch 9/10\n",
      "329/329 [==============================] - 4s 13ms/step - loss: 0.0138 - accuracy: 0.9957 - val_loss: 0.0721 - val_accuracy: 0.9836\n",
      "Epoch 10/10\n",
      "329/329 [==============================] - 4s 13ms/step - loss: 0.0121 - accuracy: 0.9960 - val_loss: 0.0792 - val_accuracy: 0.9832\n",
      "> model evaluation\n",
      "313/313 [==============================] - 1s 2ms/step - loss: 0.0830 - accuracy: 0.9823\n"
     ]
    },
    {
     "data": {
      "text/plain": [
       "[0.08301497995853424, 0.9822999835014343]"
      ]
     },
     "execution_count": 75,
     "metadata": {
      "tags": []
     },
     "output_type": "execute_result"
    }
   ],
   "source": [
    "model4 = keras.Sequential([\n",
    "    keras.layers.Dense(512, input_shape=(x_train_stan.shape[1],), activation='relu'),\n",
    "    keras.layers.Dropout(0.2),\n",
    "    keras.layers.Flatten(),\n",
    "    keras.layers.Dense(512, activation='relu'),\n",
    "    keras.layers.Dropout(0.2),\n",
    "    keras.layers.Flatten(),\n",
    "    keras.layers.Dense(10, activation='softmax'),\n",
    "])\n",
    "\n",
    "model4.compile(optimizer='adam',\n",
    "              loss= 'categorical_crossentropy',\n",
    "              metrics=['accuracy'])\n",
    "\n",
    "model4.fit(x_train_stan, y_train,\n",
    "           batch_size = 128, \n",
    "           epochs = 10, \n",
    "           validation_split = 0.3,\n",
    "           shuffle = True,\n",
    "           verbose = 1)\n",
    "\n",
    "print('> model evaluation')\n",
    "model4.evaluate(x_test_stan, y_test, verbose = 1)\n"
   ]
  },
  {
   "cell_type": "markdown",
   "metadata": {
    "id": "INW6_ol1WpNL"
   },
   "source": [
    "# 5th neural net \n",
    "still 1d array with flatten layers and many more dense layers, declining in size"
   ]
  },
  {
   "cell_type": "code",
   "execution_count": 76,
   "metadata": {
    "colab": {
     "base_uri": "https://localhost:8080/"
    },
    "id": "LjojKzuKWxh-",
    "outputId": "1b4e172e-f20a-4403-a43b-9319df2044bc"
   },
   "outputs": [
    {
     "name": "stdout",
     "output_type": "stream",
     "text": [
      "Epoch 1/10\n",
      "329/329 [==============================] - 15s 45ms/step - loss: 0.2727 - accuracy: 0.9224 - val_loss: 0.1161 - val_accuracy: 0.9715\n",
      "Epoch 2/10\n",
      "329/329 [==============================] - 5s 14ms/step - loss: 0.0803 - accuracy: 0.9798 - val_loss: 0.0891 - val_accuracy: 0.9773\n",
      "Epoch 3/10\n",
      "329/329 [==============================] - 5s 14ms/step - loss: 0.0590 - accuracy: 0.9854 - val_loss: 0.0896 - val_accuracy: 0.9800\n",
      "Epoch 4/10\n",
      "329/329 [==============================] - 5s 14ms/step - loss: 0.0449 - accuracy: 0.9883 - val_loss: 0.0788 - val_accuracy: 0.9809\n",
      "Epoch 5/10\n",
      "329/329 [==============================] - 5s 14ms/step - loss: 0.0376 - accuracy: 0.9900 - val_loss: 0.0904 - val_accuracy: 0.9784\n",
      "Epoch 6/10\n",
      "329/329 [==============================] - 5s 14ms/step - loss: 0.0399 - accuracy: 0.9900 - val_loss: 0.0851 - val_accuracy: 0.9813\n",
      "Epoch 7/10\n",
      "329/329 [==============================] - 5s 14ms/step - loss: 0.0270 - accuracy: 0.9930 - val_loss: 0.0765 - val_accuracy: 0.9839\n",
      "Epoch 8/10\n",
      "329/329 [==============================] - 4s 14ms/step - loss: 0.0258 - accuracy: 0.9933 - val_loss: 0.0987 - val_accuracy: 0.9802\n",
      "Epoch 9/10\n",
      "329/329 [==============================] - 4s 14ms/step - loss: 0.0255 - accuracy: 0.9932 - val_loss: 0.0846 - val_accuracy: 0.9828\n",
      "Epoch 10/10\n",
      "329/329 [==============================] - 4s 14ms/step - loss: 0.0190 - accuracy: 0.9950 - val_loss: 0.0895 - val_accuracy: 0.9828\n",
      "> model evaluation\n",
      "313/313 [==============================] - 1s 2ms/step - loss: 0.1002 - accuracy: 0.9818\n"
     ]
    },
    {
     "data": {
      "text/plain": [
       "[0.10022571682929993, 0.9818000197410583]"
      ]
     },
     "execution_count": 76,
     "metadata": {
      "tags": []
     },
     "output_type": "execute_result"
    }
   ],
   "source": [
    "model5 = keras.Sequential([\n",
    "    keras.layers.Dense(512, input_shape=(x_train_stan.shape[1],), activation='relu'),\n",
    "    keras.layers.Dropout(0.2),\n",
    "    keras.layers.Flatten(),\n",
    "    keras.layers.Dense(342, activation='relu'),\n",
    "    keras.layers.Dropout(0.2),\n",
    "    keras.layers.Flatten(),\n",
    "    keras.layers.Dense(225, activation='relu'),\n",
    "    keras.layers.Dropout(0.2),\n",
    "    keras.layers.Flatten(),\n",
    "    keras.layers.Dense(135, activation='relu'),\n",
    "    keras.layers.Dropout(0.2),\n",
    "    keras.layers.Flatten(),\n",
    "    keras.layers.Dense(81, activation='relu'),\n",
    "    keras.layers.Dropout(0.2),\n",
    "    keras.layers.Flatten(),    keras.layers.Dense(10, activation='softmax'),\n",
    "])\n",
    "\n",
    "model5.compile(optimizer='adam',\n",
    "              loss= 'categorical_crossentropy',\n",
    "              metrics=['accuracy'])\n",
    "\n",
    "model5.fit(x_train_stan, y_train,\n",
    "           batch_size = 128, \n",
    "           epochs = 10, \n",
    "           #validation_data=(x_test, y_test)),\n",
    "           validation_split = 0.3,\n",
    "           shuffle = True,\n",
    "           verbose = 1)\n",
    "\n",
    "print('> model evaluation')\n",
    "model5.evaluate(x_test_stan, y_test, verbose = 1)\n"
   ]
  },
  {
   "cell_type": "markdown",
   "metadata": {
    "id": "2Q_axbXiXMl3"
   },
   "source": [
    "# CONVOLUTIONAL NEURAL NETS\n",
    "following lecture slides, we learned that 2d arrrays work better for number recognition as they can be read by a convolutional network\n",
    "\n",
    "following the lecture slides, we know that convoluted networks are better suited for image classification. \n",
    "following the exercise jupyter notebook from the (mnist_cnn.ipynb) we try a model with more layers\n",
    "\n",
    "relu for activatzion function, should be better.\n",
    "soft max better for classification, dense10 at the end remains => makes sens\n",
    "\n",
    "\n",
    "for convolution nets to work we need to restructre the data back to multidimensional array from the flattened version we imported from *csv*"
   ]
  },
  {
   "cell_type": "code",
   "execution_count": 77,
   "metadata": {
    "id": "b_lqNtGIX89H"
   },
   "outputs": [],
   "source": [
    "x_train_2d_stan = np.reshape(x_train_stan,(60000,28,28,1))\n",
    "x_test_2d_stan = np.reshape(x_test_stan,(10000,28,28,1))"
   ]
  },
  {
   "cell_type": "markdown",
   "metadata": {
    "id": "-pGF1CShXmhn"
   },
   "source": [
    "# Conv 1st neural net"
   ]
  },
  {
   "cell_type": "code",
   "execution_count": 94,
   "metadata": {
    "colab": {
     "base_uri": "https://localhost:8080/"
    },
    "id": "Sv4x2HpsXcXl",
    "outputId": "83798877-2fcb-45e9-95a5-80f6e32a8155"
   },
   "outputs": [
    {
     "name": "stdout",
     "output_type": "stream",
     "text": [
      "Epoch 1/15\n",
      "1313/1313 [==============================] - 15s 11ms/step - loss: 0.1580 - accuracy: 0.9589 - val_loss: 0.1055 - val_accuracy: 0.9712\n",
      "Epoch 2/15\n",
      "1313/1313 [==============================] - 14s 11ms/step - loss: 0.0694 - accuracy: 0.9807 - val_loss: 0.0830 - val_accuracy: 0.9765\n",
      "Epoch 3/15\n",
      "1313/1313 [==============================] - 14s 11ms/step - loss: 0.0490 - accuracy: 0.9861 - val_loss: 0.0710 - val_accuracy: 0.9801\n",
      "Epoch 4/15\n",
      "1313/1313 [==============================] - 14s 11ms/step - loss: 0.0374 - accuracy: 0.9898 - val_loss: 0.0600 - val_accuracy: 0.9833\n",
      "Epoch 5/15\n",
      "1313/1313 [==============================] - 14s 11ms/step - loss: 0.0303 - accuracy: 0.9914 - val_loss: 0.0529 - val_accuracy: 0.9844\n",
      "Epoch 6/15\n",
      "1313/1313 [==============================] - 14s 11ms/step - loss: 0.0241 - accuracy: 0.9931 - val_loss: 0.0539 - val_accuracy: 0.9842\n",
      "Epoch 7/15\n",
      "1313/1313 [==============================] - 14s 11ms/step - loss: 0.0206 - accuracy: 0.9942 - val_loss: 0.0534 - val_accuracy: 0.9847\n",
      "Epoch 8/15\n",
      "1313/1313 [==============================] - 14s 11ms/step - loss: 0.0177 - accuracy: 0.9951 - val_loss: 0.0498 - val_accuracy: 0.9863\n",
      "Epoch 9/15\n",
      "1313/1313 [==============================] - 14s 11ms/step - loss: 0.0149 - accuracy: 0.9961 - val_loss: 0.0514 - val_accuracy: 0.9859\n",
      "Epoch 10/15\n",
      "1313/1313 [==============================] - 14s 11ms/step - loss: 0.0134 - accuracy: 0.9962 - val_loss: 0.0515 - val_accuracy: 0.9864\n",
      "Epoch 11/15\n",
      "1313/1313 [==============================] - 14s 11ms/step - loss: 0.0113 - accuracy: 0.9969 - val_loss: 0.0503 - val_accuracy: 0.9858\n",
      "Epoch 12/15\n",
      "1313/1313 [==============================] - 14s 11ms/step - loss: 0.0108 - accuracy: 0.9969 - val_loss: 0.0539 - val_accuracy: 0.9851\n",
      "Epoch 13/15\n",
      "1313/1313 [==============================] - 14s 11ms/step - loss: 0.0098 - accuracy: 0.9972 - val_loss: 0.0631 - val_accuracy: 0.9853\n",
      "Epoch 14/15\n",
      "1313/1313 [==============================] - 14s 11ms/step - loss: 0.0089 - accuracy: 0.9974 - val_loss: 0.0565 - val_accuracy: 0.9864\n",
      "Epoch 15/15\n",
      "1313/1313 [==============================] - 14s 11ms/step - loss: 0.0081 - accuracy: 0.9973 - val_loss: 0.0571 - val_accuracy: 0.9857\n",
      "313/313 [==============================] - 1s 4ms/step - loss: 0.0524 - accuracy: 0.9870\n"
     ]
    },
    {
     "data": {
      "text/plain": [
       "[0.05243486911058426, 0.9869999885559082]"
      ]
     },
     "execution_count": 94,
     "metadata": {
      "tags": []
     },
     "output_type": "execute_result"
    }
   ],
   "source": [
    "num_filters = 12\n",
    "filter_size = 5\n",
    "pool_size = 2\n",
    "\n",
    "modelc1 = keras.Sequential([\n",
    "  keras.layers.Conv2D(num_filters, filter_size, input_shape=(28, 28, 1)),\n",
    "  keras.layers.MaxPooling2D(pool_size=pool_size),\n",
    "  keras.layers.Flatten(),\n",
    "  keras.layers.Dense(10, activation='softmax'),\n",
    "])\n",
    "\n",
    "modelc1.compile(optimizer='adam',\n",
    "              loss='categorical_crossentropy',\n",
    "              metrics=['accuracy'])\n",
    "\n",
    "modelc1.fit(x_train_2d_stan, y_train, \n",
    "          validation_split = 0.3,\n",
    "          shuffle = True, \n",
    "          epochs= 15,\n",
    "          verbose = 1)\n",
    "\n",
    "modelc1.evaluate(x_test_2d_stan, y_test, verbose = 1)"
   ]
  },
  {
   "cell_type": "markdown",
   "metadata": {
    "id": "uym7-bBSZ8i9"
   },
   "source": [
    "# Conv 2nd neural net\n",
    "2d array, bigger kernel used"
   ]
  },
  {
   "cell_type": "code",
   "execution_count": 79,
   "metadata": {
    "colab": {
     "base_uri": "https://localhost:8080/"
    },
    "id": "5tHAYxTcaAuG",
    "outputId": "cbe0ba28-65de-4416-ee4e-f59aa9a83c65"
   },
   "outputs": [
    {
     "name": "stdout",
     "output_type": "stream",
     "text": [
      "Epoch 1/10\n",
      "329/329 [==============================] - 14s 42ms/step - loss: 0.3892 - accuracy: 0.9170 - val_loss: 0.0911 - val_accuracy: 0.9778\n",
      "Epoch 2/10\n",
      "329/329 [==============================] - 14s 41ms/step - loss: 0.0623 - accuracy: 0.9836 - val_loss: 0.0616 - val_accuracy: 0.9834\n",
      "Epoch 3/10\n",
      "329/329 [==============================] - 13s 41ms/step - loss: 0.0457 - accuracy: 0.9876 - val_loss: 0.0555 - val_accuracy: 0.9851\n",
      "Epoch 4/10\n",
      "329/329 [==============================] - 13s 41ms/step - loss: 0.0371 - accuracy: 0.9899 - val_loss: 0.0519 - val_accuracy: 0.9860\n",
      "Epoch 5/10\n",
      "329/329 [==============================] - 14s 41ms/step - loss: 0.0327 - accuracy: 0.9911 - val_loss: 0.0419 - val_accuracy: 0.9873\n",
      "Epoch 6/10\n",
      "329/329 [==============================] - 13s 41ms/step - loss: 0.0287 - accuracy: 0.9920 - val_loss: 0.0376 - val_accuracy: 0.9893\n",
      "Epoch 7/10\n",
      "329/329 [==============================] - 13s 41ms/step - loss: 0.0266 - accuracy: 0.9927 - val_loss: 0.0372 - val_accuracy: 0.9894\n",
      "Epoch 8/10\n",
      "329/329 [==============================] - 13s 41ms/step - loss: 0.0244 - accuracy: 0.9928 - val_loss: 0.0363 - val_accuracy: 0.9893\n",
      "Epoch 9/10\n",
      "329/329 [==============================] - 13s 41ms/step - loss: 0.0230 - accuracy: 0.9934 - val_loss: 0.0341 - val_accuracy: 0.9900\n",
      "Epoch 10/10\n",
      "329/329 [==============================] - 13s 41ms/step - loss: 0.0210 - accuracy: 0.9940 - val_loss: 0.0345 - val_accuracy: 0.9898\n",
      "> model evaluation\n",
      "313/313 [==============================] - 1s 5ms/step - loss: 0.0395 - accuracy: 0.9874\n"
     ]
    },
    {
     "data": {
      "text/plain": [
       "[0.03949955478310585, 0.9873999953269958]"
      ]
     },
     "execution_count": 79,
     "metadata": {
      "tags": []
     },
     "output_type": "execute_result"
    }
   ],
   "source": [
    "#  2D,  grössser kernel Conv2D eingebaut \n",
    "modelc2 = keras.Sequential([\n",
    "    keras.layers.Conv2D(32, kernel_size=(6, 6),\n",
    "                 activation='relu',\n",
    "                 input_shape=(28,28,1)),\n",
    "    keras.layers.MaxPooling2D(pool_size=(5, 5)),\n",
    "    keras.layers.Flatten(),\n",
    "    keras.layers.Dense(10, activation='softmax'),\n",
    "])\n",
    "\n",
    "modelc2.compile(optimizer='adam',\n",
    "              loss= 'categorical_crossentropy',\n",
    "              metrics=['accuracy'])\n",
    "\n",
    "modelc2.fit(x_train_2d_stan, y_train,\n",
    "           batch_size = 128, \n",
    "           epochs = 10, \n",
    "           #validation_data=(x_test, y_test)),\n",
    "           validation_split = 0.3,\n",
    "           shuffle = True,\n",
    "           verbose = 1)\n",
    "\n",
    "print('> model evaluation')\n",
    "modelc2.evaluate(x_test_2d_stan, y_test, verbose = 1)"
   ]
  },
  {
   "cell_type": "markdown",
   "metadata": {
    "id": "SbfEg4ciay-E"
   },
   "source": [
    "#Conv 3rd neural net\n",
    "bigger kernel, more dense layers at the end"
   ]
  },
  {
   "cell_type": "code",
   "execution_count": 96,
   "metadata": {
    "colab": {
     "base_uri": "https://localhost:8080/"
    },
    "id": "Rqh1thk4aAYq",
    "outputId": "e02e0231-0012-40cf-c00c-35aa8fe51341"
   },
   "outputs": [
    {
     "name": "stdout",
     "output_type": "stream",
     "text": [
      "Epoch 1/10\n",
      "329/329 [==============================] - 15s 45ms/step - loss: 0.1954 - accuracy: 0.9510 - val_loss: 0.0653 - val_accuracy: 0.9816\n",
      "Epoch 2/10\n",
      "329/329 [==============================] - 15s 46ms/step - loss: 0.0452 - accuracy: 0.9866 - val_loss: 0.0429 - val_accuracy: 0.9870\n",
      "Epoch 3/10\n",
      "329/329 [==============================] - 15s 46ms/step - loss: 0.0363 - accuracy: 0.9895 - val_loss: 0.0341 - val_accuracy: 0.9907\n",
      "Epoch 4/10\n",
      "329/329 [==============================] - 15s 46ms/step - loss: 0.0287 - accuracy: 0.9911 - val_loss: 0.0379 - val_accuracy: 0.9878\n",
      "Epoch 5/10\n",
      "329/329 [==============================] - 15s 46ms/step - loss: 0.0255 - accuracy: 0.9919 - val_loss: 0.0307 - val_accuracy: 0.9909\n",
      "Epoch 6/10\n",
      "329/329 [==============================] - 15s 45ms/step - loss: 0.0217 - accuracy: 0.9930 - val_loss: 0.0330 - val_accuracy: 0.9898\n",
      "Epoch 7/10\n",
      "329/329 [==============================] - 15s 46ms/step - loss: 0.0209 - accuracy: 0.9936 - val_loss: 0.0335 - val_accuracy: 0.9901\n",
      "Epoch 8/10\n",
      "329/329 [==============================] - 15s 46ms/step - loss: 0.0191 - accuracy: 0.9941 - val_loss: 0.0396 - val_accuracy: 0.9894\n",
      "Epoch 9/10\n",
      "329/329 [==============================] - 15s 45ms/step - loss: 0.0164 - accuracy: 0.9947 - val_loss: 0.0247 - val_accuracy: 0.9916\n",
      "Epoch 10/10\n",
      "329/329 [==============================] - 15s 45ms/step - loss: 0.0166 - accuracy: 0.9944 - val_loss: 0.0326 - val_accuracy: 0.9906\n",
      "> model evaluation\n",
      "313/313 [==============================] - 2s 5ms/step - loss: 0.0285 - accuracy: 0.9914\n"
     ]
    },
    {
     "data": {
      "text/plain": [
       "[0.028519269078969955, 0.9914000034332275]"
      ]
     },
     "execution_count": 96,
     "metadata": {
      "tags": []
     },
     "output_type": "execute_result"
    }
   ],
   "source": [
    "#  2D,  grössseres Conv2D eingebaut, mit mehr dense am ende\n",
    "modelc3 = keras.Sequential([\n",
    "    keras.layers.Conv2D(32, kernel_size=(6, 6),\n",
    "                 activation='relu',\n",
    "                 input_shape=(28,28,1)),\n",
    "    keras.layers.MaxPooling2D(pool_size=(5, 5)),\n",
    "    keras.layers.Dropout(0.25),\n",
    "    keras.layers.Flatten(),\n",
    "    keras.layers.Dense(255, activation='relu'),\n",
    "    keras.layers.Dense(128, activation='relu'),\n",
    "    keras.layers.Dense(10, activation='softmax'),\n",
    "])\n",
    "\n",
    "modelc3.compile(optimizer='adam',\n",
    "              loss= 'categorical_crossentropy',\n",
    "              metrics=['accuracy'])\n",
    "\n",
    "modelc3.fit(x_train_2d_stan, y_train,\n",
    "           batch_size = 128, \n",
    "           epochs = 10, \n",
    "           #validation_data=(x_test, y_test)),\n",
    "           validation_split = 0.3,\n",
    "           shuffle = True,\n",
    "           verbose = 1)\n",
    "\n",
    "print('> model evaluation')\n",
    "modelc3.evaluate(x_test_2d_stan, y_test, verbose = 1)"
   ]
  },
  {
   "cell_type": "markdown",
   "metadata": {
    "id": "thta00vWbJ1B"
   },
   "source": [
    "# Conv 4th neural net\n",
    "bigger kernel, 3 kernels, then dense, dropout and flatten layers, padding of 1 pixel"
   ]
  },
  {
   "cell_type": "code",
   "execution_count": 83,
   "metadata": {
    "colab": {
     "base_uri": "https://localhost:8080/"
    },
    "id": "pFMvfGyabFlA",
    "outputId": "005c97a0-a24c-4725-f08b-22364e17d5d1"
   },
   "outputs": [
    {
     "name": "stdout",
     "output_type": "stream",
     "text": [
      "Epoch 1/15\n",
      "329/329 [==============================] - 117s 352ms/step - loss: 0.2474 - accuracy: 0.9253 - val_loss: 0.0685 - val_accuracy: 0.9804\n",
      "Epoch 2/15\n",
      "329/329 [==============================] - 115s 351ms/step - loss: 0.0607 - accuracy: 0.9843 - val_loss: 0.0512 - val_accuracy: 0.9863\n",
      "Epoch 3/15\n",
      "329/329 [==============================] - 115s 350ms/step - loss: 0.0461 - accuracy: 0.9879 - val_loss: 0.0541 - val_accuracy: 0.9853\n",
      "Epoch 4/15\n",
      "329/329 [==============================] - 115s 349ms/step - loss: 0.0432 - accuracy: 0.9890 - val_loss: 0.0604 - val_accuracy: 0.9851\n",
      "Epoch 5/15\n",
      "329/329 [==============================] - 115s 349ms/step - loss: 0.0349 - accuracy: 0.9905 - val_loss: 0.0449 - val_accuracy: 0.9882\n",
      "Epoch 6/15\n",
      "329/329 [==============================] - 115s 350ms/step - loss: 0.0314 - accuracy: 0.9914 - val_loss: 0.0530 - val_accuracy: 0.9870\n",
      "Epoch 7/15\n",
      "329/329 [==============================] - 115s 350ms/step - loss: 0.0293 - accuracy: 0.9919 - val_loss: 0.0479 - val_accuracy: 0.9886\n",
      "Epoch 8/15\n",
      "329/329 [==============================] - 115s 349ms/step - loss: 0.0279 - accuracy: 0.9923 - val_loss: 0.0448 - val_accuracy: 0.9878\n",
      "Epoch 9/15\n",
      "329/329 [==============================] - 115s 349ms/step - loss: 0.0219 - accuracy: 0.9938 - val_loss: 0.0381 - val_accuracy: 0.9902\n",
      "Epoch 10/15\n",
      "329/329 [==============================] - 115s 349ms/step - loss: 0.0234 - accuracy: 0.9931 - val_loss: 0.0453 - val_accuracy: 0.9889\n",
      "Epoch 11/15\n",
      "329/329 [==============================] - 115s 350ms/step - loss: 0.0200 - accuracy: 0.9941 - val_loss: 0.0587 - val_accuracy: 0.9872\n",
      "Epoch 12/15\n",
      "329/329 [==============================] - 115s 348ms/step - loss: 0.0175 - accuracy: 0.9952 - val_loss: 0.0435 - val_accuracy: 0.9896\n",
      "Epoch 13/15\n",
      "329/329 [==============================] - 114s 346ms/step - loss: 0.0190 - accuracy: 0.9947 - val_loss: 0.0630 - val_accuracy: 0.9860\n",
      "Epoch 14/15\n",
      "329/329 [==============================] - 113s 344ms/step - loss: 0.0193 - accuracy: 0.9946 - val_loss: 0.0535 - val_accuracy: 0.9883\n",
      "Epoch 15/15\n",
      "329/329 [==============================] - 113s 345ms/step - loss: 0.0129 - accuracy: 0.9959 - val_loss: 0.0597 - val_accuracy: 0.9881\n",
      "> model evaluation\n",
      "313/313 [==============================] - 7s 23ms/step - loss: 0.0476 - accuracy: 0.9890\n"
     ]
    },
    {
     "data": {
      "text/plain": [
       "[0.047644421458244324, 0.9890000224113464]"
      ]
     },
     "execution_count": 83,
     "metadata": {
      "tags": []
     },
     "output_type": "execute_result"
    }
   ],
   "source": [
    "#  2D,  grössseres und mehr Conv2D eingebaut\n",
    "modelc4 = keras.Sequential([\n",
    "    keras.layers.ZeroPadding2D(padding=(1,1)),\n",
    "    keras.layers.Conv2D(32, kernel_size=(14, 14),\n",
    "                 activation='relu',\n",
    "                 input_shape=(28,28,1)),\n",
    "    keras.layers.Conv2D(64, kernel_size=(6, 6),activation='relu'),\n",
    "    keras.layers.Conv2D(128, kernel_size=(3, 3),activation='relu'),\n",
    "    keras.layers.MaxPooling2D(pool_size=(2, 2)),\n",
    "    keras.layers.Dropout(0.2),\n",
    "    keras.layers.Flatten(),\n",
    "    keras.layers.Dense(128, activation='relu'),\n",
    "    keras.layers.Dropout(0.2),\n",
    "    keras.layers.Dense(64, activation='relu'),\n",
    "    keras.layers.Dropout(0.2),\n",
    "    keras.layers.Dense(10, activation='softmax'),\n",
    "])\n",
    "\n",
    "modelc4.compile(optimizer='adam',\n",
    "              loss= 'categorical_crossentropy',\n",
    "              metrics=['accuracy'])\n",
    "\n",
    "modelc4.fit(x_train_2d_stan, y_train,\n",
    "           batch_size = 128, \n",
    "           epochs = 15, \n",
    "           #validation_data=(x_test, y_test)),\n",
    "           validation_split = 0.3,\n",
    "           shuffle = True,\n",
    "           verbose = 1)\n",
    "\n",
    "print('> model evaluation')\n",
    "modelc4.evaluate(x_test_2d_stan, y_test, verbose = 1)"
   ]
  },
  {
   "cell_type": "markdown",
   "metadata": {
    "id": "bw76y5qabmoW"
   },
   "source": [
    "# Conv 5th neural net\n",
    "padding of 2 pixels, smaller kernels but much more of them"
   ]
  },
  {
   "cell_type": "code",
   "execution_count": 84,
   "metadata": {
    "colab": {
     "base_uri": "https://localhost:8080/"
    },
    "id": "oJc8yvU-bFah",
    "outputId": "20bd1aff-11e6-48de-8a98-5dc09084f6ff"
   },
   "outputs": [
    {
     "name": "stdout",
     "output_type": "stream",
     "text": [
      "Epoch 1/15\n",
      "329/329 [==============================] - 134s 406ms/step - loss: 0.1823 - accuracy: 0.9431 - val_loss: 0.0657 - val_accuracy: 0.9820\n",
      "Epoch 2/15\n",
      "329/329 [==============================] - 133s 405ms/step - loss: 0.0409 - accuracy: 0.9879 - val_loss: 0.0344 - val_accuracy: 0.9900\n",
      "Epoch 3/15\n",
      "329/329 [==============================] - 133s 405ms/step - loss: 0.0322 - accuracy: 0.9910 - val_loss: 0.0410 - val_accuracy: 0.9878\n",
      "Epoch 4/15\n",
      "329/329 [==============================] - 133s 405ms/step - loss: 0.0274 - accuracy: 0.9918 - val_loss: 0.0317 - val_accuracy: 0.9899\n",
      "Epoch 5/15\n",
      "329/329 [==============================] - 133s 406ms/step - loss: 0.0213 - accuracy: 0.9936 - val_loss: 0.0294 - val_accuracy: 0.9903\n",
      "Epoch 6/15\n",
      "329/329 [==============================] - 133s 404ms/step - loss: 0.0180 - accuracy: 0.9944 - val_loss: 0.0345 - val_accuracy: 0.9905\n",
      "Epoch 7/15\n",
      "329/329 [==============================] - 133s 404ms/step - loss: 0.0197 - accuracy: 0.9941 - val_loss: 0.0354 - val_accuracy: 0.9884\n",
      "Epoch 8/15\n",
      "329/329 [==============================] - 133s 404ms/step - loss: 0.0161 - accuracy: 0.9947 - val_loss: 0.0307 - val_accuracy: 0.9910\n",
      "Epoch 9/15\n",
      "329/329 [==============================] - 133s 404ms/step - loss: 0.0151 - accuracy: 0.9952 - val_loss: 0.0509 - val_accuracy: 0.9862\n",
      "Epoch 10/15\n",
      "329/329 [==============================] - 133s 404ms/step - loss: 0.0145 - accuracy: 0.9953 - val_loss: 0.0418 - val_accuracy: 0.9889\n",
      "Epoch 11/15\n",
      "329/329 [==============================] - 133s 405ms/step - loss: 0.0121 - accuracy: 0.9961 - val_loss: 0.0383 - val_accuracy: 0.9907\n",
      "Epoch 12/15\n",
      "329/329 [==============================] - 133s 405ms/step - loss: 0.0128 - accuracy: 0.9956 - val_loss: 0.0392 - val_accuracy: 0.9904\n",
      "Epoch 13/15\n",
      "329/329 [==============================] - 133s 405ms/step - loss: 0.0118 - accuracy: 0.9961 - val_loss: 0.0415 - val_accuracy: 0.9894\n",
      "Epoch 14/15\n",
      "329/329 [==============================] - 133s 405ms/step - loss: 0.0117 - accuracy: 0.9961 - val_loss: 0.0339 - val_accuracy: 0.9915\n",
      "Epoch 15/15\n",
      "329/329 [==============================] - 133s 405ms/step - loss: 0.0108 - accuracy: 0.9965 - val_loss: 0.0410 - val_accuracy: 0.9902\n",
      "> model evaluation\n",
      "313/313 [==============================] - 8s 26ms/step - loss: 0.0463 - accuracy: 0.9883\n"
     ]
    },
    {
     "data": {
      "text/plain": [
       "[0.04625444486737251, 0.9883000254631042]"
      ]
     },
     "execution_count": 84,
     "metadata": {
      "tags": []
     },
     "output_type": "execute_result"
    }
   ],
   "source": [
    "#  2D,  kleiner aber mehrere layers Conv2D eingebaut\n",
    "modelc5 = keras.Sequential([\n",
    "    keras.layers.ZeroPadding2D(padding=(2,2)),\n",
    "    keras.layers.Conv2D(18, kernel_size=(6, 6),\n",
    "                 activation='relu',\n",
    "                 input_shape=(28,28,1)),\n",
    "    keras.layers.Conv2D(32, kernel_size=(5, 5),activation='relu'),\n",
    "    keras.layers.Conv2D(18, kernel_size=(4, 4),activation='relu'),\n",
    "    keras.layers.Conv2D(32, kernel_size=(3, 3),activation='relu'),    \n",
    "    keras.layers.Conv2D(32, kernel_size=(2, 2),activation='relu'),\n",
    "    keras.layers.MaxPooling2D(pool_size=(2, 2)),\n",
    "    keras.layers.Dropout(0.2),\n",
    "    keras.layers.Flatten(),\n",
    "    keras.layers.Dense(128, activation='relu'),\n",
    "    keras.layers.Dropout(0.2),\n",
    "    keras.layers.Dense(10, activation='softmax'),\n",
    "])\n",
    "\n",
    "modelc5.compile(optimizer='adam',\n",
    "              loss= 'categorical_crossentropy',\n",
    "              metrics=['accuracy'])\n",
    "\n",
    "modelc5.fit(x_train_2d_stan, y_train,\n",
    "           batch_size = 128, \n",
    "           epochs = 15, \n",
    "           #validation_data=(x_test, y_test)),\n",
    "           validation_split = 0.3,\n",
    "           shuffle = True,\n",
    "           verbose = 1)\n",
    "\n",
    "print('> model evaluation')\n",
    "modelc5.evaluate(x_test_2d_stan, y_test, verbose = 1)"
   ]
  },
  {
   "cell_type": "markdown",
   "metadata": {
    "id": "eYS3n7L9cEDL"
   },
   "source": [
    "# Conv 6th neural net \n",
    "kernel size of conv 2nd net, more dense layers at the end."
   ]
  },
  {
   "cell_type": "code",
   "execution_count": 85,
   "metadata": {
    "colab": {
     "base_uri": "https://localhost:8080/"
    },
    "id": "kjpqRG89cGAX",
    "outputId": "2f22535a-6494-4560-e8b2-d544caa14702"
   },
   "outputs": [
    {
     "name": "stdout",
     "output_type": "stream",
     "text": [
      "Epoch 1/15\n",
      "329/329 [==============================] - 16s 47ms/step - loss: 0.3587 - accuracy: 0.8868 - val_loss: 0.0596 - val_accuracy: 0.9854\n",
      "Epoch 2/15\n",
      "329/329 [==============================] - 15s 46ms/step - loss: 0.0630 - accuracy: 0.9836 - val_loss: 0.0604 - val_accuracy: 0.9833\n",
      "Epoch 3/15\n",
      "329/329 [==============================] - 15s 46ms/step - loss: 0.0446 - accuracy: 0.9881 - val_loss: 0.0400 - val_accuracy: 0.9891\n",
      "Epoch 4/15\n",
      "329/329 [==============================] - 15s 46ms/step - loss: 0.0378 - accuracy: 0.9893 - val_loss: 0.0432 - val_accuracy: 0.9887\n",
      "Epoch 5/15\n",
      "329/329 [==============================] - 15s 46ms/step - loss: 0.0334 - accuracy: 0.9915 - val_loss: 0.0403 - val_accuracy: 0.9888\n",
      "Epoch 6/15\n",
      "329/329 [==============================] - 15s 46ms/step - loss: 0.0272 - accuracy: 0.9927 - val_loss: 0.0326 - val_accuracy: 0.9916\n",
      "Epoch 7/15\n",
      "329/329 [==============================] - 15s 46ms/step - loss: 0.0280 - accuracy: 0.9926 - val_loss: 0.0314 - val_accuracy: 0.9915\n",
      "Epoch 8/15\n",
      "329/329 [==============================] - 15s 46ms/step - loss: 0.0248 - accuracy: 0.9930 - val_loss: 0.0292 - val_accuracy: 0.9920\n",
      "Epoch 9/15\n",
      "329/329 [==============================] - 15s 46ms/step - loss: 0.0226 - accuracy: 0.9939 - val_loss: 0.0332 - val_accuracy: 0.9917\n",
      "Epoch 10/15\n",
      "329/329 [==============================] - 15s 46ms/step - loss: 0.0201 - accuracy: 0.9946 - val_loss: 0.0333 - val_accuracy: 0.9911\n",
      "Epoch 11/15\n",
      "329/329 [==============================] - 15s 46ms/step - loss: 0.0180 - accuracy: 0.9945 - val_loss: 0.0319 - val_accuracy: 0.9923\n",
      "Epoch 12/15\n",
      "329/329 [==============================] - 15s 46ms/step - loss: 0.0191 - accuracy: 0.9945 - val_loss: 0.0325 - val_accuracy: 0.9918\n",
      "Epoch 13/15\n",
      "329/329 [==============================] - 15s 46ms/step - loss: 0.0184 - accuracy: 0.9946 - val_loss: 0.0407 - val_accuracy: 0.9908\n",
      "Epoch 14/15\n",
      "329/329 [==============================] - 15s 46ms/step - loss: 0.0176 - accuracy: 0.9949 - val_loss: 0.0424 - val_accuracy: 0.9907\n",
      "Epoch 15/15\n",
      "329/329 [==============================] - 15s 46ms/step - loss: 0.0154 - accuracy: 0.9955 - val_loss: 0.0295 - val_accuracy: 0.9933\n",
      "> model evaluation\n",
      "313/313 [==============================] - 2s 5ms/step - loss: 0.0399 - accuracy: 0.9903\n"
     ]
    },
    {
     "data": {
      "text/plain": [
       "[0.039946287870407104, 0.9902999997138977]"
      ]
     },
     "execution_count": 85,
     "metadata": {
      "tags": []
     },
     "output_type": "execute_result"
    }
   ],
   "source": [
    "#  2D,  grössseres Conv2D eingebaut, mit noch mehr dense am ende\n",
    "modelc6 = keras.Sequential([\n",
    "    keras.layers.Conv2D(32, kernel_size=(6, 6),\n",
    "                 activation='relu',\n",
    "                 input_shape=(28,28,1)),\n",
    "    keras.layers.MaxPooling2D(pool_size=(5, 5)),\n",
    "    keras.layers.Dropout(0.2),\n",
    "    keras.layers.Flatten(),\n",
    "    keras.layers.Dense(255, activation='relu'),\n",
    "    keras.layers.Dropout(0.1),\n",
    "    keras.layers.Dense(128, activation='relu'),\n",
    "    keras.layers.Dropout(0.1),\n",
    "    keras.layers.Dense(64, activation='relu'),\n",
    "    keras.layers.Dropout(0.1),\n",
    "    keras.layers.Dense(32, activation='relu'),\n",
    "    keras.layers.Dropout(0.1),\n",
    "\n",
    "    keras.layers.Dense(10, activation='softmax'),\n",
    "])\n",
    "\n",
    "modelc6.compile(optimizer='adam',\n",
    "              loss= 'categorical_crossentropy',\n",
    "              metrics=['accuracy'])\n",
    "\n",
    "modelc6.fit(x_train_2d_stan, y_train,\n",
    "           batch_size = 128, \n",
    "           epochs = 15, \n",
    "           #validation_data=(x_test, y_test)),\n",
    "           validation_split = 0.3,\n",
    "           shuffle = True,\n",
    "           verbose = 1)\n",
    "\n",
    "print('> model evaluation')\n",
    "modelc6.evaluate(x_test_2d_stan, y_test, verbose = 1)"
   ]
  },
  {
   "cell_type": "markdown",
   "metadata": {
    "id": "7BWGR-HBck3I"
   },
   "source": [
    "# PARAMETERS SPECIFICATION\n",
    "\n",
    "having found 3rd model to have the highest accuracy in testing, we continue to evaluate different parameters for the model compilation. "
   ]
  },
  {
   "cell_type": "markdown",
   "metadata": {
    "id": "uJFWXCPgc3Ym"
   },
   "source": [
    "## different loss function\n",
    "loss = keras.losses.categorical_crossentropy"
   ]
  },
  {
   "cell_type": "code",
   "execution_count": 86,
   "metadata": {
    "colab": {
     "base_uri": "https://localhost:8080/"
    },
    "id": "StTyqLpKAdLV",
    "outputId": "df960b3e-6120-4de5-b19b-b86b6dc83167"
   },
   "outputs": [
    {
     "name": "stdout",
     "output_type": "stream",
     "text": [
      "Epoch 1/15\n",
      "329/329 [==============================] - 15s 46ms/step - loss: 0.2037 - accuracy: 0.9475 - val_loss: 0.0644 - val_accuracy: 0.9825\n",
      "Epoch 2/15\n",
      "329/329 [==============================] - 15s 45ms/step - loss: 0.0469 - accuracy: 0.9867 - val_loss: 0.0449 - val_accuracy: 0.9863\n",
      "Epoch 3/15\n",
      "329/329 [==============================] - 15s 45ms/step - loss: 0.0335 - accuracy: 0.9899 - val_loss: 0.0356 - val_accuracy: 0.9901\n",
      "Epoch 4/15\n",
      "329/329 [==============================] - 15s 45ms/step - loss: 0.0279 - accuracy: 0.9916 - val_loss: 0.0369 - val_accuracy: 0.9888\n",
      "Epoch 5/15\n",
      "329/329 [==============================] - 15s 45ms/step - loss: 0.0239 - accuracy: 0.9922 - val_loss: 0.0300 - val_accuracy: 0.9911\n",
      "Epoch 6/15\n",
      "329/329 [==============================] - 15s 45ms/step - loss: 0.0215 - accuracy: 0.9931 - val_loss: 0.0394 - val_accuracy: 0.9889\n",
      "Epoch 7/15\n",
      "329/329 [==============================] - 15s 45ms/step - loss: 0.0207 - accuracy: 0.9934 - val_loss: 0.0307 - val_accuracy: 0.9911\n",
      "Epoch 8/15\n",
      "329/329 [==============================] - 15s 45ms/step - loss: 0.0200 - accuracy: 0.9937 - val_loss: 0.0370 - val_accuracy: 0.9887\n",
      "Epoch 9/15\n",
      "329/329 [==============================] - 15s 45ms/step - loss: 0.0174 - accuracy: 0.9944 - val_loss: 0.0286 - val_accuracy: 0.9914\n",
      "Epoch 10/15\n",
      "329/329 [==============================] - 15s 45ms/step - loss: 0.0148 - accuracy: 0.9949 - val_loss: 0.0251 - val_accuracy: 0.9927\n",
      "Epoch 11/15\n",
      "329/329 [==============================] - 15s 45ms/step - loss: 0.0133 - accuracy: 0.9958 - val_loss: 0.0340 - val_accuracy: 0.9903\n",
      "Epoch 12/15\n",
      "329/329 [==============================] - 15s 45ms/step - loss: 0.0150 - accuracy: 0.9950 - val_loss: 0.0280 - val_accuracy: 0.9908\n",
      "Epoch 13/15\n",
      "329/329 [==============================] - 15s 44ms/step - loss: 0.0130 - accuracy: 0.9957 - val_loss: 0.0265 - val_accuracy: 0.9922\n",
      "Epoch 14/15\n",
      "329/329 [==============================] - 15s 45ms/step - loss: 0.0127 - accuracy: 0.9963 - val_loss: 0.0287 - val_accuracy: 0.9913\n",
      "Epoch 15/15\n",
      "329/329 [==============================] - 15s 45ms/step - loss: 0.0117 - accuracy: 0.9963 - val_loss: 0.0303 - val_accuracy: 0.9910\n",
      "> model evaluation\n",
      "313/313 [==============================] - 2s 6ms/step - loss: 0.0308 - accuracy: 0.9914\n"
     ]
    },
    {
     "data": {
      "text/plain": [
       "[0.030769916251301765, 0.9914000034332275]"
      ]
     },
     "execution_count": 86,
     "metadata": {
      "tags": []
     },
     "output_type": "execute_result"
    }
   ],
   "source": [
    "model = keras.Sequential([\n",
    "    keras.layers.Conv2D(32, kernel_size=(6, 6),\n",
    "                 activation='relu',\n",
    "                 input_shape=(28,28,1)),\n",
    "    keras.layers.MaxPooling2D(pool_size=(5, 5)),\n",
    "    keras.layers.Dropout(0.25),\n",
    "    keras.layers.Flatten(),\n",
    "    keras.layers.Dense(255, activation='relu'),\n",
    "    keras.layers.Dense(128, activation='relu'),\n",
    "    keras.layers.Dense(10, activation='softmax'),\n",
    "])\n",
    "\n",
    "model.compile(optimizer='adam',\n",
    "              loss=keras.losses.categorical_crossentropy,\n",
    "              metrics=['accuracy'])\n",
    "\n",
    "model.fit(x_train_2d_stan, y_train,\n",
    "           batch_size = 128, \n",
    "           epochs = 15, \n",
    "           #validation_data=(x_test, y_test)),\n",
    "           validation_split = 0.3,\n",
    "           shuffle = True,\n",
    "           verbose = 1)\n",
    "\n",
    "print('> model evaluation')\n",
    "model.evaluate(x_test_2d_stan, y_test, verbose = 1)"
   ]
  },
  {
   "cell_type": "markdown",
   "metadata": {
    "id": "2VqGWbIgdCwP"
   },
   "source": [
    "# different loss function, different optimizer\n",
    "\n",
    "optimizer=keras.optimizers.Adadelta(),\n",
    "              loss=keras.losses.categorical_crossentropy"
   ]
  },
  {
   "cell_type": "code",
   "execution_count": 87,
   "metadata": {
    "colab": {
     "base_uri": "https://localhost:8080/"
    },
    "id": "_qt1ukCPdECN",
    "outputId": "298d315c-cb0e-4f5e-f503-9b5e2851792d"
   },
   "outputs": [
    {
     "name": "stdout",
     "output_type": "stream",
     "text": [
      "Epoch 1/15\n",
      "329/329 [==============================] - 15s 46ms/step - loss: 2.3070 - accuracy: 0.0929 - val_loss: 2.2975 - val_accuracy: 0.1210\n",
      "Epoch 2/15\n",
      "329/329 [==============================] - 15s 45ms/step - loss: 2.2892 - accuracy: 0.1249 - val_loss: 2.2765 - val_accuracy: 0.1701\n",
      "Epoch 3/15\n",
      "329/329 [==============================] - 15s 45ms/step - loss: 2.2711 - accuracy: 0.1668 - val_loss: 2.2554 - val_accuracy: 0.2608\n",
      "Epoch 4/15\n",
      "329/329 [==============================] - 15s 45ms/step - loss: 2.2523 - accuracy: 0.2217 - val_loss: 2.2340 - val_accuracy: 0.3725\n",
      "Epoch 5/15\n",
      "329/329 [==============================] - 15s 45ms/step - loss: 2.2339 - accuracy: 0.2817 - val_loss: 2.2120 - val_accuracy: 0.4632\n",
      "Epoch 6/15\n",
      "329/329 [==============================] - 15s 45ms/step - loss: 2.2137 - accuracy: 0.3423 - val_loss: 2.1888 - val_accuracy: 0.5306\n",
      "Epoch 7/15\n",
      "329/329 [==============================] - 15s 45ms/step - loss: 2.1918 - accuracy: 0.3968 - val_loss: 2.1642 - val_accuracy: 0.5811\n",
      "Epoch 8/15\n",
      "329/329 [==============================] - 15s 45ms/step - loss: 2.1692 - accuracy: 0.4438 - val_loss: 2.1379 - val_accuracy: 0.6247\n",
      "Epoch 9/15\n",
      "329/329 [==============================] - 15s 45ms/step - loss: 2.1444 - accuracy: 0.4853 - val_loss: 2.1099 - val_accuracy: 0.6571\n",
      "Epoch 10/15\n",
      "329/329 [==============================] - 15s 45ms/step - loss: 2.1175 - accuracy: 0.5216 - val_loss: 2.0798 - val_accuracy: 0.6856\n",
      "Epoch 11/15\n",
      "329/329 [==============================] - 15s 45ms/step - loss: 2.0878 - accuracy: 0.5555 - val_loss: 2.0476 - val_accuracy: 0.7113\n",
      "Epoch 12/15\n",
      "329/329 [==============================] - 15s 45ms/step - loss: 2.0563 - accuracy: 0.5896 - val_loss: 2.0134 - val_accuracy: 0.7326\n",
      "Epoch 13/15\n",
      "329/329 [==============================] - 15s 45ms/step - loss: 2.0223 - accuracy: 0.6236 - val_loss: 1.9768 - val_accuracy: 0.7542\n",
      "Epoch 14/15\n",
      "329/329 [==============================] - 15s 45ms/step - loss: 1.9863 - accuracy: 0.6483 - val_loss: 1.9381 - val_accuracy: 0.7736\n",
      "Epoch 15/15\n",
      "329/329 [==============================] - 15s 45ms/step - loss: 1.9475 - accuracy: 0.6810 - val_loss: 1.8968 - val_accuracy: 0.7927\n",
      "> model evaluation\n",
      "313/313 [==============================] - 2s 5ms/step - loss: 1.8971 - accuracy: 0.7744\n"
     ]
    },
    {
     "data": {
      "text/plain": [
       "[1.8971047401428223, 0.774399995803833]"
      ]
     },
     "execution_count": 87,
     "metadata": {
      "tags": []
     },
     "output_type": "execute_result"
    }
   ],
   "source": [
    "# 2D,  grössseres Conv2D eingebaut, mit mehr dense am ende\n",
    "# andere loss function, andere optimizer function\n",
    "\n",
    "model = keras.Sequential([\n",
    "    keras.layers.Conv2D(32, kernel_size=(6, 6),\n",
    "                 activation='relu',\n",
    "                 input_shape=(28,28,1)),\n",
    "    keras.layers.MaxPooling2D(pool_size=(5, 5)),\n",
    "    keras.layers.Dropout(0.25),\n",
    "    keras.layers.Flatten(),\n",
    "    keras.layers.Dense(255, activation='relu'),\n",
    "    keras.layers.Dense(128, activation='relu'),\n",
    "    keras.layers.Dense(10, activation='softmax'),\n",
    "])\n",
    "\n",
    "model.compile(optimizer=keras.optimizers.Adadelta(),\n",
    "              loss=keras.losses.categorical_crossentropy,\n",
    "              metrics=['accuracy'])\n",
    "\n",
    "model.fit(x_train_2d_stan, y_train,\n",
    "           batch_size = 128, \n",
    "           epochs = 15, \n",
    "           #validation_data=(x_test, y_test)),\n",
    "           validation_split = 0.3,\n",
    "           shuffle = True,\n",
    "           verbose = 1)\n",
    "\n",
    "print('> model evaluation')\n",
    "model.evaluate(x_test_2d_stan, y_test, verbose = 1)"
   ]
  },
  {
   "cell_type": "markdown",
   "metadata": {
    "id": "C_v-bKGbdCkk"
   },
   "source": [
    "# different loss function, differnent batch_size\n",
    "loss = keras.losses.categorical_crossentropy\n",
    "batch_size = 512"
   ]
  },
  {
   "cell_type": "code",
   "execution_count": 88,
   "metadata": {
    "colab": {
     "base_uri": "https://localhost:8080/"
    },
    "id": "KuNcOZ1KdRqq",
    "outputId": "c534b972-f554-414a-9083-52aed0352571"
   },
   "outputs": [
    {
     "name": "stdout",
     "output_type": "stream",
     "text": [
      "Epoch 1/15\n",
      "83/83 [==============================] - 15s 170ms/step - loss: 0.5036 - accuracy: 0.8802 - val_loss: 0.1047 - val_accuracy: 0.9687\n",
      "Epoch 2/15\n",
      "83/83 [==============================] - 14s 163ms/step - loss: 0.0831 - accuracy: 0.9754 - val_loss: 0.0628 - val_accuracy: 0.9829\n",
      "Epoch 3/15\n",
      "83/83 [==============================] - 13s 163ms/step - loss: 0.0571 - accuracy: 0.9831 - val_loss: 0.0513 - val_accuracy: 0.9856\n",
      "Epoch 4/15\n",
      "83/83 [==============================] - 13s 163ms/step - loss: 0.0447 - accuracy: 0.9866 - val_loss: 0.0427 - val_accuracy: 0.9883\n",
      "Epoch 5/15\n",
      "83/83 [==============================] - 13s 163ms/step - loss: 0.0427 - accuracy: 0.9874 - val_loss: 0.0391 - val_accuracy: 0.9891\n",
      "Epoch 6/15\n",
      "83/83 [==============================] - 13s 162ms/step - loss: 0.0328 - accuracy: 0.9898 - val_loss: 0.0330 - val_accuracy: 0.9908\n",
      "Epoch 7/15\n",
      "83/83 [==============================] - 13s 162ms/step - loss: 0.0306 - accuracy: 0.9908 - val_loss: 0.0310 - val_accuracy: 0.9906\n",
      "Epoch 8/15\n",
      "83/83 [==============================] - 13s 162ms/step - loss: 0.0286 - accuracy: 0.9912 - val_loss: 0.0320 - val_accuracy: 0.9903\n",
      "Epoch 9/15\n",
      "83/83 [==============================] - 13s 161ms/step - loss: 0.0267 - accuracy: 0.9920 - val_loss: 0.0389 - val_accuracy: 0.9888\n",
      "Epoch 10/15\n",
      "83/83 [==============================] - 13s 162ms/step - loss: 0.0250 - accuracy: 0.9929 - val_loss: 0.0394 - val_accuracy: 0.9882\n",
      "Epoch 11/15\n",
      "83/83 [==============================] - 13s 161ms/step - loss: 0.0229 - accuracy: 0.9933 - val_loss: 0.0294 - val_accuracy: 0.9915\n",
      "Epoch 12/15\n",
      "83/83 [==============================] - 13s 162ms/step - loss: 0.0193 - accuracy: 0.9942 - val_loss: 0.0272 - val_accuracy: 0.9922\n",
      "Epoch 13/15\n",
      "83/83 [==============================] - 13s 161ms/step - loss: 0.0196 - accuracy: 0.9936 - val_loss: 0.0299 - val_accuracy: 0.9908\n",
      "Epoch 14/15\n",
      "83/83 [==============================] - 13s 161ms/step - loss: 0.0193 - accuracy: 0.9935 - val_loss: 0.0287 - val_accuracy: 0.9914\n",
      "Epoch 15/15\n",
      "83/83 [==============================] - 13s 161ms/step - loss: 0.0187 - accuracy: 0.9940 - val_loss: 0.0295 - val_accuracy: 0.9903\n",
      "> model evaluation\n",
      "313/313 [==============================] - 2s 5ms/step - loss: 0.0274 - accuracy: 0.9910\n"
     ]
    },
    {
     "data": {
      "text/plain": [
       "[0.027373697608709335, 0.9909999966621399]"
      ]
     },
     "execution_count": 88,
     "metadata": {
      "tags": []
     },
     "output_type": "execute_result"
    }
   ],
   "source": [
    "\n",
    "\n",
    "model = keras.Sequential([\n",
    "    keras.layers.Conv2D(32, kernel_size=(6, 6),\n",
    "                 activation='relu',\n",
    "                 input_shape=(28,28,1)),\n",
    "    keras.layers.MaxPooling2D(pool_size=(5, 5)),\n",
    "    keras.layers.Dropout(0.25),\n",
    "    keras.layers.Flatten(),\n",
    "    keras.layers.Dense(255, activation='relu'),\n",
    "    keras.layers.Dense(128, activation='relu'),\n",
    "    keras.layers.Dense(10, activation='softmax'),\n",
    "])\n",
    "\n",
    "model.compile(optimizer='adam',\n",
    "              loss=keras.losses.categorical_crossentropy,\n",
    "              metrics=['accuracy'])\n",
    "\n",
    "model.fit(x_train_2d_stan, y_train,\n",
    "           batch_size = 512, \n",
    "           epochs = 15, \n",
    "           #validation_data=(x_test, y_test)),\n",
    "           validation_split = 0.3,\n",
    "           shuffle = True,\n",
    "           verbose = 1)\n",
    "\n",
    "print('> model evaluation')\n",
    "model.evaluate(x_test_2d_stan, y_test, verbose = 1)"
   ]
  },
  {
   "cell_type": "markdown",
   "metadata": {
    "id": "TvQ4buaRdjm6"
   },
   "source": [
    "# only different batch_size\n",
    "batch_size = 512"
   ]
  },
  {
   "cell_type": "code",
   "execution_count": 89,
   "metadata": {
    "colab": {
     "base_uri": "https://localhost:8080/"
    },
    "id": "YdtjsU9ddi2O",
    "outputId": "753c4e4b-45a8-464f-9249-3626eabeea70"
   },
   "outputs": [
    {
     "name": "stdout",
     "output_type": "stream",
     "text": [
      "Epoch 1/15\n",
      "83/83 [==============================] - 14s 164ms/step - loss: 0.4474 - accuracy: 0.8979 - val_loss: 0.0882 - val_accuracy: 0.9758\n",
      "Epoch 2/15\n",
      "83/83 [==============================] - 13s 162ms/step - loss: 0.0705 - accuracy: 0.9798 - val_loss: 0.0532 - val_accuracy: 0.9863\n",
      "Epoch 3/15\n",
      "83/83 [==============================] - 13s 162ms/step - loss: 0.0497 - accuracy: 0.9857 - val_loss: 0.0496 - val_accuracy: 0.9858\n",
      "Epoch 4/15\n",
      "83/83 [==============================] - 13s 162ms/step - loss: 0.0454 - accuracy: 0.9865 - val_loss: 0.0381 - val_accuracy: 0.9895\n",
      "Epoch 5/15\n",
      "83/83 [==============================] - 13s 162ms/step - loss: 0.0343 - accuracy: 0.9899 - val_loss: 0.0403 - val_accuracy: 0.9886\n",
      "Epoch 6/15\n",
      "83/83 [==============================] - 13s 161ms/step - loss: 0.0342 - accuracy: 0.9896 - val_loss: 0.0346 - val_accuracy: 0.9894\n",
      "Epoch 7/15\n",
      "83/83 [==============================] - 13s 161ms/step - loss: 0.0303 - accuracy: 0.9913 - val_loss: 0.0325 - val_accuracy: 0.9907\n",
      "Epoch 8/15\n",
      "83/83 [==============================] - 13s 161ms/step - loss: 0.0255 - accuracy: 0.9922 - val_loss: 0.0322 - val_accuracy: 0.9906\n",
      "Epoch 9/15\n",
      "83/83 [==============================] - 13s 161ms/step - loss: 0.0245 - accuracy: 0.9926 - val_loss: 0.0271 - val_accuracy: 0.9921\n",
      "Epoch 10/15\n",
      "83/83 [==============================] - 13s 162ms/step - loss: 0.0208 - accuracy: 0.9939 - val_loss: 0.0330 - val_accuracy: 0.9903\n",
      "Epoch 11/15\n",
      "83/83 [==============================] - 13s 161ms/step - loss: 0.0198 - accuracy: 0.9936 - val_loss: 0.0294 - val_accuracy: 0.9913\n",
      "Epoch 12/15\n",
      "83/83 [==============================] - 13s 161ms/step - loss: 0.0215 - accuracy: 0.9930 - val_loss: 0.0346 - val_accuracy: 0.9895\n",
      "Epoch 13/15\n",
      "83/83 [==============================] - 13s 162ms/step - loss: 0.0265 - accuracy: 0.9919 - val_loss: 0.0293 - val_accuracy: 0.9912\n",
      "Epoch 14/15\n",
      "83/83 [==============================] - 13s 161ms/step - loss: 0.0175 - accuracy: 0.9941 - val_loss: 0.0260 - val_accuracy: 0.9922\n",
      "Epoch 15/15\n",
      "83/83 [==============================] - 13s 161ms/step - loss: 0.0159 - accuracy: 0.9953 - val_loss: 0.0317 - val_accuracy: 0.9902\n",
      "> model evaluation\n",
      "313/313 [==============================] - 2s 5ms/step - loss: 0.0319 - accuracy: 0.9908\n"
     ]
    },
    {
     "data": {
      "text/plain": [
       "[0.03186453878879547, 0.9908000230789185]"
      ]
     },
     "execution_count": 89,
     "metadata": {
      "tags": []
     },
     "output_type": "execute_result"
    }
   ],
   "source": [
    "# 2D,  grössseres Conv2D eingebaut, mit mehr dense am ende\n",
    "# nur andere batch size\n",
    "\n",
    "model = keras.Sequential([\n",
    "    keras.layers.Conv2D(32, kernel_size=(6, 6),\n",
    "                 activation='relu',\n",
    "                 input_shape=(28,28,1)),\n",
    "    keras.layers.MaxPooling2D(pool_size=(5, 5)),\n",
    "    keras.layers.Dropout(0.25),\n",
    "    keras.layers.Flatten(),\n",
    "    keras.layers.Dense(255, activation='relu'),\n",
    "    keras.layers.Dense(128, activation='relu'),\n",
    "    keras.layers.Dense(10, activation='softmax'),\n",
    "])\n",
    "\n",
    "model.compile(optimizer='adam',\n",
    "              loss= 'categorical_crossentropy',\n",
    "              metrics=['accuracy'])\n",
    "\n",
    "model.fit(x_train_2d_stan, y_train,\n",
    "           batch_size = 512, \n",
    "           epochs = 15, \n",
    "           #validation_data=(x_test, y_test)),\n",
    "           validation_split = 0.3,\n",
    "           shuffle = True,\n",
    "           verbose = 1)\n",
    "\n",
    "print('> model evaluation')\n",
    "model.evaluate(x_test_2d_stan, y_test, verbose = 1)"
   ]
  },
  {
   "cell_type": "markdown",
   "metadata": {
    "id": "SmpddPjgdtjT"
   },
   "source": [
    "# only different batch_size\n",
    "# 2000"
   ]
  },
  {
   "cell_type": "code",
   "execution_count": 90,
   "metadata": {
    "colab": {
     "base_uri": "https://localhost:8080/"
    },
    "id": "ceMohboEdtvz",
    "outputId": "043164d0-d212-41d3-97e8-54ca82ba8bb0"
   },
   "outputs": [
    {
     "name": "stdout",
     "output_type": "stream",
     "text": [
      "Epoch 1/15\n",
      "21/21 [==============================] - 13s 605ms/step - loss: 1.3476 - accuracy: 0.7024 - val_loss: 0.3364 - val_accuracy: 0.9237\n",
      "Epoch 2/15\n",
      "21/21 [==============================] - 13s 599ms/step - loss: 0.1945 - accuracy: 0.9453 - val_loss: 0.1160 - val_accuracy: 0.9658\n",
      "Epoch 3/15\n",
      "21/21 [==============================] - 13s 599ms/step - loss: 0.1084 - accuracy: 0.9683 - val_loss: 0.0844 - val_accuracy: 0.9774\n",
      "Epoch 4/15\n",
      "21/21 [==============================] - 12s 599ms/step - loss: 0.0830 - accuracy: 0.9760 - val_loss: 0.0669 - val_accuracy: 0.9821\n",
      "Epoch 5/15\n",
      "21/21 [==============================] - 12s 597ms/step - loss: 0.0703 - accuracy: 0.9796 - val_loss: 0.0615 - val_accuracy: 0.9834\n",
      "Epoch 6/15\n",
      "21/21 [==============================] - 12s 597ms/step - loss: 0.0610 - accuracy: 0.9823 - val_loss: 0.0561 - val_accuracy: 0.9846\n",
      "Epoch 7/15\n",
      "21/21 [==============================] - 12s 599ms/step - loss: 0.0557 - accuracy: 0.9838 - val_loss: 0.0524 - val_accuracy: 0.9858\n",
      "Epoch 8/15\n",
      "21/21 [==============================] - 12s 595ms/step - loss: 0.0487 - accuracy: 0.9859 - val_loss: 0.0509 - val_accuracy: 0.9854\n",
      "Epoch 9/15\n",
      "21/21 [==============================] - 12s 594ms/step - loss: 0.0455 - accuracy: 0.9865 - val_loss: 0.0472 - val_accuracy: 0.9871\n",
      "Epoch 10/15\n",
      "21/21 [==============================] - 12s 595ms/step - loss: 0.0433 - accuracy: 0.9872 - val_loss: 0.0446 - val_accuracy: 0.9878\n",
      "Epoch 11/15\n",
      "21/21 [==============================] - 12s 595ms/step - loss: 0.0389 - accuracy: 0.9888 - val_loss: 0.0403 - val_accuracy: 0.9891\n",
      "Epoch 12/15\n",
      "21/21 [==============================] - 12s 595ms/step - loss: 0.0359 - accuracy: 0.9892 - val_loss: 0.0434 - val_accuracy: 0.9882\n",
      "Epoch 13/15\n",
      "21/21 [==============================] - 12s 595ms/step - loss: 0.0342 - accuracy: 0.9893 - val_loss: 0.0393 - val_accuracy: 0.9886\n",
      "Epoch 14/15\n",
      "21/21 [==============================] - 12s 595ms/step - loss: 0.0316 - accuracy: 0.9904 - val_loss: 0.0396 - val_accuracy: 0.9887\n",
      "Epoch 15/15\n",
      "21/21 [==============================] - 12s 595ms/step - loss: 0.0307 - accuracy: 0.9908 - val_loss: 0.0371 - val_accuracy: 0.9893\n",
      "> model evaluation\n",
      "313/313 [==============================] - 2s 6ms/step - loss: 0.0378 - accuracy: 0.9876\n"
     ]
    },
    {
     "data": {
      "text/plain": [
       "[0.037829719483852386, 0.9876000285148621]"
      ]
     },
     "execution_count": 90,
     "metadata": {
      "tags": []
     },
     "output_type": "execute_result"
    }
   ],
   "source": [
    "model = keras.Sequential([\n",
    "    keras.layers.Conv2D(32, kernel_size=(6, 6),\n",
    "                 activation='relu',\n",
    "                 input_shape=(28,28,1)),\n",
    "    keras.layers.MaxPooling2D(pool_size=(5, 5)),\n",
    "    keras.layers.Dropout(0.25),\n",
    "    keras.layers.Flatten(),\n",
    "    keras.layers.Dense(255, activation='relu'),\n",
    "    keras.layers.Dense(128, activation='relu'),\n",
    "    keras.layers.Dense(10, activation='softmax'),\n",
    "])\n",
    "\n",
    "model.compile(optimizer='adam',\n",
    "              loss= 'categorical_crossentropy',\n",
    "              metrics=['accuracy'])\n",
    "\n",
    "model.fit(x_train_2d_stan, y_train,\n",
    "           batch_size = 2000, \n",
    "           epochs = 15, \n",
    "           #validation_data=(x_test, y_test)),\n",
    "           validation_split = 0.3,\n",
    "           shuffle = True,\n",
    "           verbose = 1)\n",
    "\n",
    "print('> model evaluation')\n",
    "model.evaluate(x_test_2d_stan, y_test, verbose = 1)"
   ]
  },
  {
   "cell_type": "markdown",
   "metadata": {
    "id": "BI7MRGtMd6VR"
   },
   "source": [
    "# different optimizer, learning rate \n",
    "now optimizer with learning rate = 1e-6"
   ]
  },
  {
   "cell_type": "code",
   "execution_count": 91,
   "metadata": {
    "colab": {
     "base_uri": "https://localhost:8080/"
    },
    "id": "S0gzx2STd5cV",
    "outputId": "a5e3c6cf-1d12-4b1e-e5c0-7c0a77eb6b37"
   },
   "outputs": [
    {
     "name": "stdout",
     "output_type": "stream",
     "text": [
      "Epoch 1/15\n"
     ]
    },
    {
     "name": "stderr",
     "output_type": "stream",
     "text": [
      "/usr/local/lib/python3.7/dist-packages/tensorflow/python/keras/optimizer_v2/optimizer_v2.py:375: UserWarning: The `lr` argument is deprecated, use `learning_rate` instead.\n",
      "  \"The `lr` argument is deprecated, use `learning_rate` instead.\")\n"
     ]
    },
    {
     "name": "stdout",
     "output_type": "stream",
     "text": [
      "329/329 [==============================] - 16s 46ms/step - loss: 2.2897 - accuracy: 0.1387 - val_loss: 2.2717 - val_accuracy: 0.1821\n",
      "Epoch 2/15\n",
      "329/329 [==============================] - 15s 45ms/step - loss: 2.2666 - accuracy: 0.1723 - val_loss: 2.2470 - val_accuracy: 0.2317\n",
      "Epoch 3/15\n",
      "329/329 [==============================] - 15s 45ms/step - loss: 2.2451 - accuracy: 0.2055 - val_loss: 2.2229 - val_accuracy: 0.2945\n",
      "Epoch 4/15\n",
      "329/329 [==============================] - 15s 45ms/step - loss: 2.2231 - accuracy: 0.2405 - val_loss: 2.1989 - val_accuracy: 0.3323\n",
      "Epoch 5/15\n",
      "329/329 [==============================] - 15s 46ms/step - loss: 2.2011 - accuracy: 0.2736 - val_loss: 2.1748 - val_accuracy: 0.3494\n",
      "Epoch 6/15\n",
      "329/329 [==============================] - 15s 46ms/step - loss: 2.1789 - accuracy: 0.2998 - val_loss: 2.1502 - val_accuracy: 0.3723\n",
      "Epoch 7/15\n",
      "329/329 [==============================] - 15s 46ms/step - loss: 2.1557 - accuracy: 0.3252 - val_loss: 2.1246 - val_accuracy: 0.3983\n",
      "Epoch 8/15\n",
      "329/329 [==============================] - 15s 46ms/step - loss: 2.1320 - accuracy: 0.3503 - val_loss: 2.0980 - val_accuracy: 0.4231\n",
      "Epoch 9/15\n",
      "329/329 [==============================] - 15s 45ms/step - loss: 2.1081 - accuracy: 0.3729 - val_loss: 2.0705 - val_accuracy: 0.4496\n",
      "Epoch 10/15\n",
      "329/329 [==============================] - 15s 46ms/step - loss: 2.0831 - accuracy: 0.3978 - val_loss: 2.0419 - val_accuracy: 0.4803\n",
      "Epoch 11/15\n",
      "329/329 [==============================] - 15s 46ms/step - loss: 2.0564 - accuracy: 0.4277 - val_loss: 2.0122 - val_accuracy: 0.5221\n",
      "Epoch 12/15\n",
      "329/329 [==============================] - 15s 46ms/step - loss: 2.0295 - accuracy: 0.4550 - val_loss: 1.9815 - val_accuracy: 0.5654\n",
      "Epoch 13/15\n",
      "329/329 [==============================] - 15s 46ms/step - loss: 2.0005 - accuracy: 0.4885 - val_loss: 1.9501 - val_accuracy: 0.6086\n",
      "Epoch 14/15\n",
      "329/329 [==============================] - 15s 46ms/step - loss: 1.9723 - accuracy: 0.5149 - val_loss: 1.9177 - val_accuracy: 0.6516\n",
      "Epoch 15/15\n",
      "329/329 [==============================] - 15s 46ms/step - loss: 1.9411 - accuracy: 0.5509 - val_loss: 1.8849 - val_accuracy: 0.6895\n",
      "> model evaluation\n",
      "313/313 [==============================] - 2s 6ms/step - loss: 1.8848 - accuracy: 0.6655\n"
     ]
    },
    {
     "data": {
      "text/plain": [
       "[1.884812831878662, 0.6654999852180481]"
      ]
     },
     "execution_count": 91,
     "metadata": {
      "tags": []
     },
     "output_type": "execute_result"
    }
   ],
   "source": [
    "# 2D,  grössseres Conv2D eingebaut, mit mehr dense am ende\n",
    "# andere optimizer function RMSprop, mit learning rate\n",
    "\n",
    "from keras.optimizers import RMSprop\n",
    "\n",
    "model = keras.Sequential([\n",
    "    keras.layers.Conv2D(32, kernel_size=(6, 6),\n",
    "                 activation='relu',\n",
    "                 input_shape=(28,28,1)),\n",
    "    keras.layers.MaxPooling2D(pool_size=(5, 5)),\n",
    "    keras.layers.Dropout(0.25),\n",
    "    keras.layers.Flatten(),\n",
    "    keras.layers.Dense(255, activation='relu'),\n",
    "    keras.layers.Dense(128, activation='relu'),\n",
    "    keras.layers.Dense(10, activation='softmax'),\n",
    "])\n",
    "\n",
    "model.compile(optimizer = keras.optimizers.RMSprop(lr=1e-6),\n",
    "              loss = keras.losses.categorical_crossentropy,\n",
    "              metrics=['accuracy'])\n",
    "\n",
    "model.fit(x_train_2d_stan, y_train,\n",
    "           batch_size = 128, \n",
    "           epochs = 15, \n",
    "           #validation_data=(x_test, y_test)),\n",
    "           validation_split = 0.3,\n",
    "           shuffle = True,\n",
    "           verbose = 1)\n",
    "\n",
    "print('> model evaluation')\n",
    "model.evaluate(x_test_2d_stan, y_test, verbose = 1)\n",
    "\n"
   ]
  },
  {
   "cell_type": "markdown",
   "metadata": {
    "id": "q30je40yeUPi"
   },
   "source": [
    "\n",
    "# different optimizer, learning rate 2\n",
    "now optimizer with learning rate = 0.01\n"
   ]
  },
  {
   "cell_type": "code",
   "execution_count": 92,
   "metadata": {
    "colab": {
     "base_uri": "https://localhost:8080/"
    },
    "id": "q79mZ6aleTG1",
    "outputId": "a898b934-9061-4c83-fa0b-7cb51c737386"
   },
   "outputs": [
    {
     "name": "stdout",
     "output_type": "stream",
     "text": [
      "Epoch 1/15\n"
     ]
    },
    {
     "name": "stderr",
     "output_type": "stream",
     "text": [
      "/usr/local/lib/python3.7/dist-packages/tensorflow/python/keras/optimizer_v2/optimizer_v2.py:375: UserWarning: The `lr` argument is deprecated, use `learning_rate` instead.\n",
      "  \"The `lr` argument is deprecated, use `learning_rate` instead.\")\n"
     ]
    },
    {
     "name": "stdout",
     "output_type": "stream",
     "text": [
      "329/329 [==============================] - 15s 45ms/step - loss: 0.2048 - accuracy: 0.9403 - val_loss: 0.0534 - val_accuracy: 0.9865\n",
      "Epoch 2/15\n",
      "329/329 [==============================] - 15s 45ms/step - loss: 0.0708 - accuracy: 0.9828 - val_loss: 0.0588 - val_accuracy: 0.9862\n",
      "Epoch 3/15\n",
      "329/329 [==============================] - 15s 45ms/step - loss: 0.0674 - accuracy: 0.9838 - val_loss: 0.0669 - val_accuracy: 0.9872\n",
      "Epoch 4/15\n",
      "329/329 [==============================] - 15s 44ms/step - loss: 0.0720 - accuracy: 0.9851 - val_loss: 0.0822 - val_accuracy: 0.9841\n",
      "Epoch 5/15\n",
      "329/329 [==============================] - 15s 44ms/step - loss: 0.0721 - accuracy: 0.9860 - val_loss: 0.1207 - val_accuracy: 0.9835\n",
      "Epoch 6/15\n",
      "329/329 [==============================] - 15s 44ms/step - loss: 0.0732 - accuracy: 0.9863 - val_loss: 0.0901 - val_accuracy: 0.9873\n",
      "Epoch 7/15\n",
      "329/329 [==============================] - 15s 45ms/step - loss: 0.0777 - accuracy: 0.9846 - val_loss: 0.0707 - val_accuracy: 0.9843\n",
      "Epoch 8/15\n",
      "329/329 [==============================] - 15s 44ms/step - loss: 0.0756 - accuracy: 0.9849 - val_loss: 0.1087 - val_accuracy: 0.9791\n",
      "Epoch 9/15\n",
      "329/329 [==============================] - 15s 45ms/step - loss: 0.0718 - accuracy: 0.9858 - val_loss: 0.0648 - val_accuracy: 0.9877\n",
      "Epoch 10/15\n",
      "329/329 [==============================] - 15s 44ms/step - loss: 0.0812 - accuracy: 0.9843 - val_loss: 0.0712 - val_accuracy: 0.9871\n",
      "Epoch 11/15\n",
      "329/329 [==============================] - 15s 44ms/step - loss: 0.0783 - accuracy: 0.9854 - val_loss: 0.1082 - val_accuracy: 0.9827\n",
      "Epoch 12/15\n",
      "329/329 [==============================] - 15s 45ms/step - loss: 0.0728 - accuracy: 0.9858 - val_loss: 0.0903 - val_accuracy: 0.9867\n",
      "Epoch 13/15\n",
      "329/329 [==============================] - 15s 44ms/step - loss: 0.0771 - accuracy: 0.9850 - val_loss: 0.0973 - val_accuracy: 0.9879\n",
      "Epoch 14/15\n",
      "329/329 [==============================] - 15s 44ms/step - loss: 0.0774 - accuracy: 0.9866 - val_loss: 0.0943 - val_accuracy: 0.9847\n",
      "Epoch 15/15\n",
      "329/329 [==============================] - 15s 45ms/step - loss: 0.0761 - accuracy: 0.9856 - val_loss: 0.1838 - val_accuracy: 0.9799\n",
      "> model evaluation\n",
      "313/313 [==============================] - 2s 5ms/step - loss: 0.1484 - accuracy: 0.9808\n"
     ]
    },
    {
     "data": {
      "text/plain": [
       "[0.14839889109134674, 0.9807999730110168]"
      ]
     },
     "execution_count": 92,
     "metadata": {
      "tags": []
     },
     "output_type": "execute_result"
    }
   ],
   "source": [
    "# 2D,  grössseres Conv2D eingebaut, mit mehr dense am ende\n",
    "# andere optimizer function RMSprop, mit learning rate : 0.01\n",
    "\n",
    "from keras.optimizers import RMSprop\n",
    "\n",
    "model = keras.Sequential([\n",
    "    keras.layers.Conv2D(32, kernel_size=(6, 6),\n",
    "                 activation='relu',\n",
    "                 input_shape=(28,28,1)),\n",
    "    keras.layers.MaxPooling2D(pool_size=(5, 5)),\n",
    "    keras.layers.Dropout(0.25),\n",
    "    keras.layers.Flatten(),\n",
    "    keras.layers.Dense(255, activation='relu'),\n",
    "    keras.layers.Dense(128, activation='relu'),\n",
    "    keras.layers.Dense(10, activation='softmax'),\n",
    "])\n",
    "\n",
    "model.compile(optimizer = keras.optimizers.RMSprop(lr=0.01),\n",
    "              loss = keras.losses.categorical_crossentropy,\n",
    "              metrics=['accuracy'])\n",
    "\n",
    "model.fit(x_train_2d_stan, y_train,\n",
    "           batch_size = 128, \n",
    "           epochs = 15, \n",
    "           #validation_data=(x_test, y_test)),\n",
    "           validation_split = 0.3,\n",
    "           shuffle = True,\n",
    "           verbose = 1)\n",
    "\n",
    "print('> model evaluation')\n",
    "model.evaluate(x_test_2d_stan, y_test, verbose = 1)\n",
    "\n"
   ]
  },
  {
   "cell_type": "markdown",
   "metadata": {
    "id": "an2ENtnBekWn"
   },
   "source": [
    "\n",
    "# different optimizer, learning rate 3\n",
    "now optimizer with learning rate = 0.1\n"
   ]
  },
  {
   "cell_type": "code",
   "execution_count": 95,
   "metadata": {
    "colab": {
     "base_uri": "https://localhost:8080/"
    },
    "id": "LmRBrA4Eep3W",
    "outputId": "96e0f8cc-8cf9-4cda-abc2-0730891f2d62"
   },
   "outputs": [
    {
     "name": "stderr",
     "output_type": "stream",
     "text": [
      "/usr/local/lib/python3.7/dist-packages/tensorflow/python/keras/optimizer_v2/optimizer_v2.py:375: UserWarning: The `lr` argument is deprecated, use `learning_rate` instead.\n",
      "  \"The `lr` argument is deprecated, use `learning_rate` instead.\")\n"
     ]
    },
    {
     "name": "stdout",
     "output_type": "stream",
     "text": [
      "Epoch 1/15\n",
      "329/329 [==============================] - 15s 44ms/step - loss: 68.4931 - accuracy: 0.1015 - val_loss: 2.3201 - val_accuracy: 0.1000\n",
      "Epoch 2/15\n",
      "329/329 [==============================] - 14s 44ms/step - loss: 2.3094 - accuracy: 0.0994 - val_loss: 2.3380 - val_accuracy: 0.1000\n",
      "Epoch 3/15\n",
      "329/329 [==============================] - 15s 44ms/step - loss: 2.3102 - accuracy: 0.0983 - val_loss: 2.3179 - val_accuracy: 0.1000\n",
      "Epoch 4/15\n",
      "329/329 [==============================] - 14s 44ms/step - loss: 2.3097 - accuracy: 0.1023 - val_loss: 2.3249 - val_accuracy: 0.1000\n",
      "Epoch 5/15\n",
      "329/329 [==============================] - 15s 44ms/step - loss: 2.3100 - accuracy: 0.1002 - val_loss: 2.3144 - val_accuracy: 0.1000\n",
      "Epoch 6/15\n",
      "329/329 [==============================] - 14s 44ms/step - loss: 2.3098 - accuracy: 0.0989 - val_loss: 2.3199 - val_accuracy: 0.1000\n",
      "Epoch 7/15\n",
      "329/329 [==============================] - 14s 44ms/step - loss: 2.3096 - accuracy: 0.0985 - val_loss: 2.3242 - val_accuracy: 0.1000\n",
      "Epoch 8/15\n",
      "329/329 [==============================] - 15s 44ms/step - loss: 2.3097 - accuracy: 0.1007 - val_loss: 2.3153 - val_accuracy: 0.1000\n",
      "Epoch 9/15\n",
      "329/329 [==============================] - 14s 44ms/step - loss: 2.3099 - accuracy: 0.0996 - val_loss: 2.3191 - val_accuracy: 0.1000\n",
      "Epoch 10/15\n",
      "329/329 [==============================] - 14s 44ms/step - loss: 2.3096 - accuracy: 0.0996 - val_loss: 2.3183 - val_accuracy: 0.1000\n",
      "Epoch 11/15\n",
      "329/329 [==============================] - 14s 44ms/step - loss: 2.3097 - accuracy: 0.1009 - val_loss: 2.3086 - val_accuracy: 0.1000\n",
      "Epoch 12/15\n",
      "329/329 [==============================] - 14s 44ms/step - loss: 2.3091 - accuracy: 0.1006 - val_loss: 2.3266 - val_accuracy: 0.1000\n",
      "Epoch 13/15\n",
      "329/329 [==============================] - 15s 44ms/step - loss: 2.3096 - accuracy: 0.1000 - val_loss: 2.3071 - val_accuracy: 0.1000\n",
      "Epoch 14/15\n",
      "329/329 [==============================] - 15s 44ms/step - loss: 2.3095 - accuracy: 0.1013 - val_loss: 2.3312 - val_accuracy: 0.1000\n",
      "Epoch 15/15\n",
      "329/329 [==============================] - 15s 44ms/step - loss: 2.3098 - accuracy: 0.1000 - val_loss: 2.3271 - val_accuracy: 0.1000\n",
      "> model evaluation\n",
      "313/313 [==============================] - 2s 5ms/step - loss: 2.3271 - accuracy: 0.1000\n"
     ]
    },
    {
     "data": {
      "text/plain": [
       "[2.3270788192749023, 0.10000000149011612]"
      ]
     },
     "execution_count": 95,
     "metadata": {
      "tags": []
     },
     "output_type": "execute_result"
    }
   ],
   "source": [
    "# 2D,  grössseres Conv2D eingebaut, mit mehr dense am ende\n",
    "# andere optimizer function RMSprop, mit learning rate : 0.1\n",
    "\n",
    "from keras.optimizers import RMSprop\n",
    "\n",
    "model = keras.Sequential([\n",
    "    keras.layers.Conv2D(32, kernel_size=(6, 6),\n",
    "                 activation='relu',\n",
    "                 input_shape=(28,28,1)),\n",
    "    keras.layers.MaxPooling2D(pool_size=(5, 5)),\n",
    "    keras.layers.Dropout(0.25),\n",
    "    keras.layers.Flatten(),\n",
    "    keras.layers.Dense(255, activation='relu'),\n",
    "    keras.layers.Dense(128, activation='relu'),\n",
    "    keras.layers.Dense(10, activation='softmax'),\n",
    "])\n",
    "\n",
    "model.compile(optimizer = keras.optimizers.RMSprop(lr=0.1),\n",
    "              loss = keras.losses.categorical_crossentropy,\n",
    "              metrics=['accuracy'])\n",
    "\n",
    "model.fit(x_train_2d_stan, y_train,\n",
    "           batch_size = 128, \n",
    "           epochs = 15, \n",
    "           #validation_data=(x_test, y_test)),\n",
    "           validation_split = 0.3,\n",
    "           shuffle = True,\n",
    "           verbose = 1)\n",
    "\n",
    "print('> model evaluation')\n",
    "model.evaluate(x_test_2d_stan, y_test, verbose = 1)\n",
    "\n"
   ]
  },
  {
   "cell_type": "markdown",
   "metadata": {
    "id": "6ErIsr_KUQbP"
   },
   "source": [
    "# Prediction accuracy"
   ]
  },
  {
   "cell_type": "code",
   "execution_count": 140,
   "metadata": {
    "colab": {
     "base_uri": "https://localhost:8080/"
    },
    "id": "OmsQp20NcMr1",
    "outputId": "847a1d56-e760-4bbb-d708-f737f45ccb63"
   },
   "outputs": [
    {
     "data": {
      "text/plain": [
       "[0, 1, 2, 3, 4]"
      ]
     },
     "execution_count": 140,
     "metadata": {
      "tags": []
     },
     "output_type": "execute_result"
    }
   ],
   "source": [
    "y_test_labels = [np.argmax(i) for i in y_test]"
   ]
  },
  {
   "cell_type": "code",
   "execution_count": 141,
   "metadata": {
    "colab": {
     "base_uri": "https://localhost:8080/",
     "height": 460
    },
    "id": "XONnc5IpUns5",
    "outputId": "cb0bd56a-135d-4a86-ed11-956dd2ec5a78"
   },
   "outputs": [
    {
     "data": {
      "text/plain": [
       "Text(69.0, 0.5, 'Truth')"
      ]
     },
     "execution_count": 141,
     "metadata": {
      "tags": []
     },
     "output_type": "execute_result"
    },
    {
     "data": {
      "image/png": "[encoded data removed]",
      "text/plain": [
       "<Figure size 720x504 with 2 Axes>"
      ]
     },
     "metadata": {
      "needs_background": "light",
      "tags": []
     },
     "output_type": "display_data"
    }
   ],
   "source": [
    "y_predictedc3 = modelc3.predict(x_test_2d_stan)\n",
    "y_predicted_labelsc3 = [np.argmax(i) for i in y_predictedc3]\n",
    "conf_mc3 = tf.math.confusion_matrix(labels = y_test_labels, predictions = y_predicted_labelsc3)\n",
    "\n",
    "plt.figure(figsize = (10,7))\n",
    "sn.heatmap(conf_mc3, annot=True, fmt='d')\n",
    "plt.xlabel('Predicted')\n",
    "plt.ylabel('Truth')\n"
   ]
  },
  {
   "cell_type": "code",
   "execution_count": 145,
   "metadata": {
    "colab": {
     "base_uri": "https://localhost:8080/",
     "height": 460
    },
    "id": "z2jzmi_YcsTN",
    "outputId": "602aba78-7481-4df5-bbfc-4a58a61f36db"
   },
   "outputs": [
    {
     "data": {
      "text/plain": [
       "Text(69.0, 0.5, 'Truth')"
      ]
     },
     "execution_count": 145,
     "metadata": {
      "tags": []
     },
     "output_type": "execute_result"
    },
    {
     "data": {
      "image/png": "[encoded data removed]",
      "text/plain": [
       "<Figure size 720x504 with 2 Axes>"
      ]
     },
     "metadata": {
      "needs_background": "light",
      "tags": []
     },
     "output_type": "display_data"
    }
   ],
   "source": [
    "y_predicted1 = model1.predict(x_test_stan)\n",
    "y_predicted_labels1 = [np.argmax(i) for i in y_predicted1]\n",
    "conf_m1 = tf.math.confusion_matrix(labels = y_test_labels, predictions = y_predicted_labels1)\n",
    "\n",
    "plt.figure(figsize = (10,7))\n",
    "sn.heatmap(conf_m1, annot=True, fmt='d')\n",
    "plt.xlabel('Predicted')\n",
    "plt.ylabel('Truth')"
   ]
  },
  {
   "cell_type": "markdown",
   "metadata": {
    "id": "J79MdyDM39Sh"
   },
   "source": [
    "# Network Comparison\n"
   ]
  },
  {
   "cell_type": "code",
   "execution_count": 147,
   "metadata": {
    "colab": {
     "base_uri": "https://localhost:8080/"
    },
    "id": "1_7JgrZg0oN0",
    "outputId": "faee93c6-358b-4fbb-f6c2-46b5725514fe"
   },
   "outputs": [
    {
     "name": "stdout",
     "output_type": "stream",
     "text": [
      "Epoch 1/10\n",
      "329/329 [==============================] - 80s 241ms/step - loss: 0.1647 - accuracy: 0.9527 - val_loss: 0.0484 - val_accuracy: 0.9851\n",
      "Epoch 2/10\n",
      "329/329 [==============================] - 79s 240ms/step - loss: 0.0492 - accuracy: 0.9860 - val_loss: 0.0405 - val_accuracy: 0.9874\n",
      "Epoch 3/10\n",
      "329/329 [==============================] - 79s 240ms/step - loss: 0.0329 - accuracy: 0.9905 - val_loss: 0.0433 - val_accuracy: 0.9881\n",
      "Epoch 4/10\n",
      "329/329 [==============================] - 79s 240ms/step - loss: 0.0292 - accuracy: 0.9910 - val_loss: 0.0369 - val_accuracy: 0.9899\n",
      "Epoch 5/10\n",
      "329/329 [==============================] - 79s 239ms/step - loss: 0.0234 - accuracy: 0.9928 - val_loss: 0.0337 - val_accuracy: 0.9907\n",
      "Epoch 6/10\n",
      "329/329 [==============================] - 79s 240ms/step - loss: 0.0213 - accuracy: 0.9937 - val_loss: 0.0358 - val_accuracy: 0.9903\n",
      "Epoch 7/10\n",
      "329/329 [==============================] - 79s 239ms/step - loss: 0.0186 - accuracy: 0.9943 - val_loss: 0.0355 - val_accuracy: 0.9908\n",
      "Epoch 8/10\n",
      "329/329 [==============================] - 79s 239ms/step - loss: 0.0180 - accuracy: 0.9942 - val_loss: 0.0392 - val_accuracy: 0.9906\n",
      "Epoch 9/10\n",
      "329/329 [==============================] - 79s 239ms/step - loss: 0.0156 - accuracy: 0.9951 - val_loss: 0.0348 - val_accuracy: 0.9909\n",
      "Epoch 10/10\n",
      "329/329 [==============================] - 79s 239ms/step - loss: 0.0143 - accuracy: 0.9955 - val_loss: 0.0396 - val_accuracy: 0.9908\n",
      "> model evaluation\n",
      "313/313 [==============================] - 5s 17ms/step - loss: 0.0411 - accuracy: 0.9897\n"
     ]
    },
    {
     "data": {
      "text/plain": [
       "[0.04109307751059532, 0.9897000193595886]"
      ]
     },
     "execution_count": 147,
     "metadata": {
      "tags": []
     },
     "output_type": "execute_result"
    }
   ],
   "source": [
    "model = keras.Sequential([\n",
    "    keras.layers.Conv2D(32, kernel_size=(3, 3),\n",
    "                 activation='relu',\n",
    "                 input_shape=(28,28,1)),\n",
    "    keras.layers.Conv2D(64, (3, 3), activation='relu'),\n",
    "    keras.layers.MaxPooling2D(pool_size=(2, 2)),\n",
    "    keras.layers.Dropout(0.25),\n",
    "    keras.layers.Flatten(),\n",
    "    keras.layers.Dense(128, activation='relu'),\n",
    "    keras.layers.Dropout(0.5),\n",
    "    keras.layers.Dense(num_classes, activation='softmax'),\n",
    "])\n",
    "\n",
    "model.compile(optimizer='adam',\n",
    "              loss='categorical_crossentropy',\n",
    "              metrics=['accuracy'])\n",
    "\n",
    "model.fit(x_train_2d_stan, y_train,\n",
    "           batch_size = 128, \n",
    "           epochs = 10, \n",
    "           #validation_data=(x_test, y_test)),\n",
    "           validation_split = 0.3,\n",
    "           shuffle = True,\n",
    "           verbose = 1)\n",
    "\n",
    "print('> model evaluation')\n",
    "model.evaluate(x_test_2d_stan, y_test, verbose = 1)"
   ]
  }
 ],
 "metadata": {
  "colab": {
   "collapsed_sections": [],
   "name": "code_FINAL.ipynb",
   "provenance": []
  },
  "kernelspec": {
   "display_name": "Python 3",
   "language": "python",
   "name": "python3"
  },
  "language_info": {
   "codemirror_mode": {
    "name": "ipython",
    "version": 3
   },
   "file_extension": ".py",
   "mimetype": "text/x-python",
   "name": "python",
   "nbconvert_exporter": "python",
   "pygments_lexer": "ipython3",
   "version": "3.8.5"
  }
 },
 "nbformat": 4,
 "nbformat_minor": 1
}
